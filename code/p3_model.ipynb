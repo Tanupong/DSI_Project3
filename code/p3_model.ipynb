{
 "cells": [
  {
   "cell_type": "markdown",
   "metadata": {},
   "source": [
    "<img src=\"http://imgur.com/1ZcRyrc.png\" style=\"float: left; margin: 20px; height: 55px\">\n",
    "\n",
    "# Project 3: Web APIs & Classification"
   ]
  },
  {
   "cell_type": "markdown",
   "metadata": {},
   "source": [
    "### Contents:\n",
    "- [Data Cleaning](#Data-Cleaning)\n",
    "- [Exploratory Data Analysis](#Exploratory-Data-Analysis)\n",
    "- [Data Modeling](#Data-Modeling)\n",
    "- [Model Interpretation](#-Model-Interpretation)\n",
    "- [Summary of Analysis](#Summary-of-Analysis)\n",
    "- [Conclusions and Recommendations](#Conclusions-and-Recommendations)"
   ]
  },
  {
   "cell_type": "code",
   "execution_count": 1,
   "metadata": {},
   "outputs": [],
   "source": [
    "#import libraries\n",
    "import pandas as pd\n",
    "import numpy as np\n",
    "import matplotlib.pyplot as plt\n",
    "import seaborn as sns\n",
    "\n",
    "%matplotlib inline"
   ]
  },
  {
   "cell_type": "markdown",
   "metadata": {},
   "source": [
    "# Data Cleaning"
   ]
  },
  {
   "cell_type": "code",
   "execution_count": 2,
   "metadata": {},
   "outputs": [],
   "source": [
    "#read csv that write from p3_data_gathering.ipynb\n",
    "surface = pd.read_csv('../data/surface.csv')\n",
    "ipad = pd.read_csv('../data/ipad.csv')"
   ]
  },
  {
   "cell_type": "code",
   "execution_count": 3,
   "metadata": {},
   "outputs": [
    {
     "data": {
      "text/html": [
       "<div>\n",
       "<style scoped>\n",
       "    .dataframe tbody tr th:only-of-type {\n",
       "        vertical-align: middle;\n",
       "    }\n",
       "\n",
       "    .dataframe tbody tr th {\n",
       "        vertical-align: top;\n",
       "    }\n",
       "\n",
       "    .dataframe thead th {\n",
       "        text-align: right;\n",
       "    }\n",
       "</style>\n",
       "<table border=\"1\" class=\"dataframe\">\n",
       "  <thead>\n",
       "    <tr style=\"text-align: right;\">\n",
       "      <th></th>\n",
       "      <th>approved_at_utc</th>\n",
       "      <th>subreddit</th>\n",
       "      <th>selftext</th>\n",
       "      <th>author_fullname</th>\n",
       "      <th>saved</th>\n",
       "      <th>mod_reason_title</th>\n",
       "      <th>gilded</th>\n",
       "      <th>clicked</th>\n",
       "      <th>title</th>\n",
       "      <th>link_flair_richtext</th>\n",
       "      <th>...</th>\n",
       "      <th>post_hint</th>\n",
       "      <th>url_overridden_by_dest</th>\n",
       "      <th>preview</th>\n",
       "      <th>link_flair_template_id</th>\n",
       "      <th>media_metadata</th>\n",
       "      <th>author_cakeday</th>\n",
       "      <th>crosspost_parent_list</th>\n",
       "      <th>crosspost_parent</th>\n",
       "      <th>is_gallery</th>\n",
       "      <th>gallery_data</th>\n",
       "    </tr>\n",
       "  </thead>\n",
       "  <tbody>\n",
       "    <tr>\n",
       "      <th>0</th>\n",
       "      <td>NaN</td>\n",
       "      <td>Surface</td>\n",
       "      <td># Purchase Advice Thread\\n\\nPeople are always ...</td>\n",
       "      <td>t2_6l4z3</td>\n",
       "      <td>False</td>\n",
       "      <td>NaN</td>\n",
       "      <td>0</td>\n",
       "      <td>False</td>\n",
       "      <td>Purchase Advice Thread (March 15)</td>\n",
       "      <td>[]</td>\n",
       "      <td>...</td>\n",
       "      <td>NaN</td>\n",
       "      <td>NaN</td>\n",
       "      <td>NaN</td>\n",
       "      <td>NaN</td>\n",
       "      <td>NaN</td>\n",
       "      <td>NaN</td>\n",
       "      <td>NaN</td>\n",
       "      <td>NaN</td>\n",
       "      <td>NaN</td>\n",
       "      <td>NaN</td>\n",
       "    </tr>\n",
       "    <tr>\n",
       "      <th>1</th>\n",
       "      <td>NaN</td>\n",
       "      <td>Surface</td>\n",
       "      <td>NaN</td>\n",
       "      <td>t2_auf2y</td>\n",
       "      <td>False</td>\n",
       "      <td>NaN</td>\n",
       "      <td>0</td>\n",
       "      <td>False</td>\n",
       "      <td>Phil Spencer playing Xbox games on an unreleas...</td>\n",
       "      <td>[{'e': 'text', 't': '[X]'}]</td>\n",
       "      <td>...</td>\n",
       "      <td>image</td>\n",
       "      <td>https://i.redd.it/yoaiis71hfn61.jpg</td>\n",
       "      <td>{'images': [{'source': {'url': 'https://previe...</td>\n",
       "      <td>473c5b12-e55c-11e9-be66-0e304224a4c2</td>\n",
       "      <td>NaN</td>\n",
       "      <td>NaN</td>\n",
       "      <td>NaN</td>\n",
       "      <td>NaN</td>\n",
       "      <td>NaN</td>\n",
       "      <td>NaN</td>\n",
       "    </tr>\n",
       "    <tr>\n",
       "      <th>2</th>\n",
       "      <td>NaN</td>\n",
       "      <td>Surface</td>\n",
       "      <td>NaN</td>\n",
       "      <td>t2_7cj7az9l</td>\n",
       "      <td>False</td>\n",
       "      <td>NaN</td>\n",
       "      <td>0</td>\n",
       "      <td>False</td>\n",
       "      <td>Appreciation post - Home office and entertainm...</td>\n",
       "      <td>[{'e': 'text', 't': '[BOOK3]'}]</td>\n",
       "      <td>...</td>\n",
       "      <td>image</td>\n",
       "      <td>https://i.redd.it/lslxppkf5kn61.jpg</td>\n",
       "      <td>{'images': [{'source': {'url': 'https://previe...</td>\n",
       "      <td>8d70c71a-8f9a-11ea-bb84-0ebaa43cfe07</td>\n",
       "      <td>NaN</td>\n",
       "      <td>NaN</td>\n",
       "      <td>NaN</td>\n",
       "      <td>NaN</td>\n",
       "      <td>NaN</td>\n",
       "      <td>NaN</td>\n",
       "    </tr>\n",
       "    <tr>\n",
       "      <th>3</th>\n",
       "      <td>NaN</td>\n",
       "      <td>Surface</td>\n",
       "      <td>NaN</td>\n",
       "      <td>t2_13g8o7</td>\n",
       "      <td>False</td>\n",
       "      <td>NaN</td>\n",
       "      <td>0</td>\n",
       "      <td>False</td>\n",
       "      <td>Took advantage of the discount to upgrade from...</td>\n",
       "      <td>[{'e': 'text', 't': '[GO2]'}]</td>\n",
       "      <td>...</td>\n",
       "      <td>image</td>\n",
       "      <td>https://i.redd.it/xrs6zigifhn61.jpg</td>\n",
       "      <td>{'images': [{'source': {'url': 'https://previe...</td>\n",
       "      <td>9f07dda6-8f9a-11ea-81a6-0e2fa157f681</td>\n",
       "      <td>NaN</td>\n",
       "      <td>NaN</td>\n",
       "      <td>NaN</td>\n",
       "      <td>NaN</td>\n",
       "      <td>NaN</td>\n",
       "      <td>NaN</td>\n",
       "    </tr>\n",
       "    <tr>\n",
       "      <th>4</th>\n",
       "      <td>NaN</td>\n",
       "      <td>Surface</td>\n",
       "      <td>my Surface Pro 2017 (a fanless i5 one) was get...</td>\n",
       "      <td>t2_dfmwt</td>\n",
       "      <td>False</td>\n",
       "      <td>NaN</td>\n",
       "      <td>0</td>\n",
       "      <td>False</td>\n",
       "      <td>TIL: Surface Dock software can be updated and ...</td>\n",
       "      <td>[{'e': 'text', 't': '[DOCK]'}]</td>\n",
       "      <td>...</td>\n",
       "      <td>self</td>\n",
       "      <td>NaN</td>\n",
       "      <td>{'images': [{'source': {'url': 'https://extern...</td>\n",
       "      <td>358d94f8-935a-11e8-aab2-0e47f48571c4</td>\n",
       "      <td>NaN</td>\n",
       "      <td>NaN</td>\n",
       "      <td>NaN</td>\n",
       "      <td>NaN</td>\n",
       "      <td>NaN</td>\n",
       "      <td>NaN</td>\n",
       "    </tr>\n",
       "  </tbody>\n",
       "</table>\n",
       "<p>5 rows × 115 columns</p>\n",
       "</div>"
      ],
      "text/plain": [
       "   approved_at_utc subreddit  \\\n",
       "0              NaN   Surface   \n",
       "1              NaN   Surface   \n",
       "2              NaN   Surface   \n",
       "3              NaN   Surface   \n",
       "4              NaN   Surface   \n",
       "\n",
       "                                            selftext author_fullname  saved  \\\n",
       "0  # Purchase Advice Thread\\n\\nPeople are always ...        t2_6l4z3  False   \n",
       "1                                                NaN        t2_auf2y  False   \n",
       "2                                                NaN     t2_7cj7az9l  False   \n",
       "3                                                NaN       t2_13g8o7  False   \n",
       "4  my Surface Pro 2017 (a fanless i5 one) was get...        t2_dfmwt  False   \n",
       "\n",
       "   mod_reason_title  gilded  clicked  \\\n",
       "0               NaN       0    False   \n",
       "1               NaN       0    False   \n",
       "2               NaN       0    False   \n",
       "3               NaN       0    False   \n",
       "4               NaN       0    False   \n",
       "\n",
       "                                               title  \\\n",
       "0                  Purchase Advice Thread (March 15)   \n",
       "1  Phil Spencer playing Xbox games on an unreleas...   \n",
       "2  Appreciation post - Home office and entertainm...   \n",
       "3  Took advantage of the discount to upgrade from...   \n",
       "4  TIL: Surface Dock software can be updated and ...   \n",
       "\n",
       "               link_flair_richtext  ... post_hint  \\\n",
       "0                               []  ...       NaN   \n",
       "1      [{'e': 'text', 't': '[X]'}]  ...     image   \n",
       "2  [{'e': 'text', 't': '[BOOK3]'}]  ...     image   \n",
       "3    [{'e': 'text', 't': '[GO2]'}]  ...     image   \n",
       "4   [{'e': 'text', 't': '[DOCK]'}]  ...      self   \n",
       "\n",
       "                url_overridden_by_dest  \\\n",
       "0                                  NaN   \n",
       "1  https://i.redd.it/yoaiis71hfn61.jpg   \n",
       "2  https://i.redd.it/lslxppkf5kn61.jpg   \n",
       "3  https://i.redd.it/xrs6zigifhn61.jpg   \n",
       "4                                  NaN   \n",
       "\n",
       "                                             preview  \\\n",
       "0                                                NaN   \n",
       "1  {'images': [{'source': {'url': 'https://previe...   \n",
       "2  {'images': [{'source': {'url': 'https://previe...   \n",
       "3  {'images': [{'source': {'url': 'https://previe...   \n",
       "4  {'images': [{'source': {'url': 'https://extern...   \n",
       "\n",
       "                 link_flair_template_id media_metadata  author_cakeday  \\\n",
       "0                                   NaN            NaN             NaN   \n",
       "1  473c5b12-e55c-11e9-be66-0e304224a4c2            NaN             NaN   \n",
       "2  8d70c71a-8f9a-11ea-bb84-0ebaa43cfe07            NaN             NaN   \n",
       "3  9f07dda6-8f9a-11ea-81a6-0e2fa157f681            NaN             NaN   \n",
       "4  358d94f8-935a-11e8-aab2-0e47f48571c4            NaN             NaN   \n",
       "\n",
       "   crosspost_parent_list  crosspost_parent  is_gallery gallery_data  \n",
       "0                    NaN               NaN         NaN          NaN  \n",
       "1                    NaN               NaN         NaN          NaN  \n",
       "2                    NaN               NaN         NaN          NaN  \n",
       "3                    NaN               NaN         NaN          NaN  \n",
       "4                    NaN               NaN         NaN          NaN  \n",
       "\n",
       "[5 rows x 115 columns]"
      ]
     },
     "execution_count": 3,
     "metadata": {},
     "output_type": "execute_result"
    }
   ],
   "source": [
    "surface.head() "
   ]
  },
  {
   "cell_type": "code",
   "execution_count": 4,
   "metadata": {},
   "outputs": [
    {
     "data": {
      "text/plain": [
       "0       t3_m5fpjr\n",
       "1       t3_m6ev97\n",
       "2       t3_m6wm9s\n",
       "3       t3_m6njjf\n",
       "4       t3_m6zyn3\n",
       "          ...    \n",
       "1236    t3_m0nf5l\n",
       "1237    t3_m0s1ze\n",
       "1238    t3_m0kwky\n",
       "1239    t3_m0ws1h\n",
       "1240    t3_m0bm03\n",
       "Name: name, Length: 1241, dtype: object"
      ]
     },
     "execution_count": 4,
     "metadata": {},
     "output_type": "execute_result"
    }
   ],
   "source": [
    "surface['name'] #identify post name - use to clean duplicated post"
   ]
  },
  {
   "cell_type": "code",
   "execution_count": 5,
   "metadata": {},
   "outputs": [
    {
     "data": {
      "text/plain": [
       "(1241, 115)"
      ]
     },
     "execution_count": 5,
     "metadata": {},
     "output_type": "execute_result"
    }
   ],
   "source": [
    "surface.shape"
   ]
  },
  {
   "cell_type": "code",
   "execution_count": 6,
   "metadata": {},
   "outputs": [
    {
     "data": {
      "text/plain": [
       "(1240, 111)"
      ]
     },
     "execution_count": 6,
     "metadata": {},
     "output_type": "execute_result"
    }
   ],
   "source": [
    "ipad.shape"
   ]
  },
  {
   "cell_type": "code",
   "execution_count": 7,
   "metadata": {},
   "outputs": [
    {
     "data": {
      "text/plain": [
       "251"
      ]
     },
     "execution_count": 7,
     "metadata": {},
     "output_type": "execute_result"
    }
   ],
   "source": [
    "#check for duplicated\n",
    "surface.duplicated(['name']).sum()"
   ]
  },
  {
   "cell_type": "code",
   "execution_count": 8,
   "metadata": {},
   "outputs": [
    {
     "data": {
      "text/plain": [
       "(990, 115)"
      ]
     },
     "execution_count": 8,
     "metadata": {},
     "output_type": "execute_result"
    }
   ],
   "source": [
    "#drop duplicated rows\n",
    "surface.drop_duplicates(['name'],inplace=True)\n",
    "surface.shape"
   ]
  },
  {
   "cell_type": "code",
   "execution_count": 9,
   "metadata": {},
   "outputs": [
    {
     "data": {
      "text/plain": [
       "(569, 111)"
      ]
     },
     "execution_count": 9,
     "metadata": {},
     "output_type": "execute_result"
    }
   ],
   "source": [
    "#doing the same for ipad\n",
    "ipad.drop_duplicates(['name'],inplace=True)\n",
    "ipad.shape"
   ]
  },
  {
   "cell_type": "code",
   "execution_count": 10,
   "metadata": {},
   "outputs": [
    {
     "data": {
      "text/plain": [
       "['approved_at_utc',\n",
       " 'subreddit',\n",
       " 'selftext',\n",
       " 'author_fullname',\n",
       " 'saved',\n",
       " 'mod_reason_title',\n",
       " 'gilded',\n",
       " 'clicked',\n",
       " 'title',\n",
       " 'link_flair_richtext',\n",
       " 'subreddit_name_prefixed',\n",
       " 'collections',\n",
       " 'hidden',\n",
       " 'pwls',\n",
       " 'link_flair_css_class',\n",
       " 'downs',\n",
       " 'thumbnail_height',\n",
       " 'top_awarded_type',\n",
       " 'hide_score',\n",
       " 'name',\n",
       " 'quarantine',\n",
       " 'link_flair_text_color',\n",
       " 'upvote_ratio',\n",
       " 'author_flair_background_color',\n",
       " 'subreddit_type',\n",
       " 'ups',\n",
       " 'total_awards_received',\n",
       " 'media_embed',\n",
       " 'thumbnail_width',\n",
       " 'author_flair_template_id',\n",
       " 'is_original_content',\n",
       " 'user_reports',\n",
       " 'secure_media',\n",
       " 'is_reddit_media_domain',\n",
       " 'is_meta',\n",
       " 'category',\n",
       " 'secure_media_embed',\n",
       " 'link_flair_text',\n",
       " 'can_mod_post',\n",
       " 'score',\n",
       " 'approved_by',\n",
       " 'author_premium',\n",
       " 'thumbnail',\n",
       " 'edited',\n",
       " 'author_flair_css_class',\n",
       " 'author_flair_richtext',\n",
       " 'gildings',\n",
       " 'content_categories',\n",
       " 'is_self',\n",
       " 'mod_note',\n",
       " 'created',\n",
       " 'link_flair_type',\n",
       " 'wls',\n",
       " 'removed_by_category',\n",
       " 'banned_by',\n",
       " 'author_flair_type',\n",
       " 'domain',\n",
       " 'allow_live_comments',\n",
       " 'selftext_html',\n",
       " 'likes',\n",
       " 'suggested_sort',\n",
       " 'banned_at_utc',\n",
       " 'view_count',\n",
       " 'archived',\n",
       " 'no_follow',\n",
       " 'is_crosspostable',\n",
       " 'pinned',\n",
       " 'over_18',\n",
       " 'all_awardings',\n",
       " 'awarders',\n",
       " 'media_only',\n",
       " 'can_gild',\n",
       " 'spoiler',\n",
       " 'locked',\n",
       " 'author_flair_text',\n",
       " 'treatment_tags',\n",
       " 'visited',\n",
       " 'removed_by',\n",
       " 'num_reports',\n",
       " 'distinguished',\n",
       " 'subreddit_id',\n",
       " 'mod_reason_by',\n",
       " 'removal_reason',\n",
       " 'link_flair_background_color',\n",
       " 'id',\n",
       " 'is_robot_indexable',\n",
       " 'report_reasons',\n",
       " 'author',\n",
       " 'discussion_type',\n",
       " 'num_comments',\n",
       " 'send_replies',\n",
       " 'whitelist_status',\n",
       " 'contest_mode',\n",
       " 'mod_reports',\n",
       " 'author_patreon_flair',\n",
       " 'author_flair_text_color',\n",
       " 'permalink',\n",
       " 'parent_whitelist_status',\n",
       " 'stickied',\n",
       " 'url',\n",
       " 'subreddit_subscribers',\n",
       " 'created_utc',\n",
       " 'num_crossposts',\n",
       " 'media',\n",
       " 'is_video',\n",
       " 'post_hint',\n",
       " 'url_overridden_by_dest',\n",
       " 'preview',\n",
       " 'link_flair_template_id',\n",
       " 'media_metadata',\n",
       " 'author_cakeday',\n",
       " 'crosspost_parent_list',\n",
       " 'crosspost_parent',\n",
       " 'is_gallery',\n",
       " 'gallery_data']"
      ]
     },
     "execution_count": 10,
     "metadata": {},
     "output_type": "execute_result"
    }
   ],
   "source": [
    "#Check for interesting columns to do EDA\n",
    "[c for c in surface.columns]"
   ]
  },
  {
   "cell_type": "code",
   "execution_count": 11,
   "metadata": {},
   "outputs": [
    {
     "data": {
      "text/plain": [
       "0    1.615824e+09\n",
       "1    1.615946e+09\n",
       "2    1.616003e+09\n",
       "3    1.615969e+09\n",
       "4    1.616015e+09\n",
       "Name: created, dtype: float64"
      ]
     },
     "execution_count": 11,
     "metadata": {},
     "output_type": "execute_result"
    }
   ],
   "source": [
    "surface['created'][:5] #Check for Created time of the post"
   ]
  },
  {
   "cell_type": "code",
   "execution_count": 12,
   "metadata": {},
   "outputs": [],
   "source": [
    "from datetime import datetime, timedelta\n",
    "from time import time,ctime\n",
    "\n",
    "#apply ctime to created column\n",
    "surface_create_time = surface['created'].apply(lambda x : ctime(x))\n",
    "surface_df_time = pd.to_datetime(surface_create_time)\n",
    "surface_df_time = surface_df_time - timedelta(hours=7) #check with timezone GMT+7\n",
    "surface['created_gmt7'] = surface_df_time\n",
    "\n",
    "\n",
    "ipad_cr_time = ipad['created'].apply(lambda x : ctime(x))\n",
    "ipad_df_time = pd.to_datetime(ipad_cr_time)\n",
    "ipad_df_time = ipad_df_time - timedelta(hours=7) #check with timezone GMT+7\n",
    "ipad['created_gmt7'] = ipad_df_time"
   ]
  },
  {
   "cell_type": "code",
   "execution_count": 13,
   "metadata": {},
   "outputs": [],
   "source": [
    "#filter out columns\n",
    "col = ['subreddit','selftext','title','num_comments','created_gmt7']\n",
    "surface = surface[col]\n",
    "ipad = ipad[col]"
   ]
  },
  {
   "cell_type": "code",
   "execution_count": 14,
   "metadata": {},
   "outputs": [
    {
     "data": {
      "text/plain": [
       "150"
      ]
     },
     "execution_count": 14,
     "metadata": {},
     "output_type": "execute_result"
    }
   ],
   "source": [
    "surface['selftext'].isnull().sum() #check for null"
   ]
  },
  {
   "cell_type": "code",
   "execution_count": 15,
   "metadata": {},
   "outputs": [],
   "source": [
    "#fill null selftex with \"\" to be able to add with title\n",
    "surface['selftext'].fillna('',inplace=True)"
   ]
  },
  {
   "cell_type": "code",
   "execution_count": 16,
   "metadata": {},
   "outputs": [],
   "source": [
    "surface['text'] = surface['title'] + \" \"+ surface['selftext']\n",
    "ipad['selftext'].fillna('',inplace=True)\n",
    "ipad['text'] = ipad['title'] + \" \"+ ipad['selftext']"
   ]
  },
  {
   "cell_type": "code",
   "execution_count": 17,
   "metadata": {},
   "outputs": [
    {
     "data": {
      "text/html": [
       "<div>\n",
       "<style scoped>\n",
       "    .dataframe tbody tr th:only-of-type {\n",
       "        vertical-align: middle;\n",
       "    }\n",
       "\n",
       "    .dataframe tbody tr th {\n",
       "        vertical-align: top;\n",
       "    }\n",
       "\n",
       "    .dataframe thead th {\n",
       "        text-align: right;\n",
       "    }\n",
       "</style>\n",
       "<table border=\"1\" class=\"dataframe\">\n",
       "  <thead>\n",
       "    <tr style=\"text-align: right;\">\n",
       "      <th></th>\n",
       "      <th>subreddit</th>\n",
       "      <th>selftext</th>\n",
       "      <th>title</th>\n",
       "      <th>num_comments</th>\n",
       "      <th>created_gmt7</th>\n",
       "      <th>text</th>\n",
       "    </tr>\n",
       "  </thead>\n",
       "  <tbody>\n",
       "    <tr>\n",
       "      <th>0</th>\n",
       "      <td>Surface</td>\n",
       "      <td># Purchase Advice Thread\\n\\nPeople are always ...</td>\n",
       "      <td>Purchase Advice Thread (March 15)</td>\n",
       "      <td>16</td>\n",
       "      <td>2021-03-15 16:00:15</td>\n",
       "      <td>Purchase Advice Thread (March 15) # Purchase A...</td>\n",
       "    </tr>\n",
       "    <tr>\n",
       "      <th>1</th>\n",
       "      <td>Surface</td>\n",
       "      <td></td>\n",
       "      <td>Phil Spencer playing Xbox games on an unreleas...</td>\n",
       "      <td>85</td>\n",
       "      <td>2021-03-17 01:48:10</td>\n",
       "      <td>Phil Spencer playing Xbox games on an unreleas...</td>\n",
       "    </tr>\n",
       "    <tr>\n",
       "      <th>2</th>\n",
       "      <td>Surface</td>\n",
       "      <td></td>\n",
       "      <td>Appreciation post - Home office and entertainm...</td>\n",
       "      <td>2</td>\n",
       "      <td>2021-03-17 17:35:49</td>\n",
       "      <td>Appreciation post - Home office and entertainm...</td>\n",
       "    </tr>\n",
       "    <tr>\n",
       "      <th>3</th>\n",
       "      <td>Surface</td>\n",
       "      <td></td>\n",
       "      <td>Took advantage of the discount to upgrade from...</td>\n",
       "      <td>11</td>\n",
       "      <td>2021-03-17 08:23:17</td>\n",
       "      <td>Took advantage of the discount to upgrade from...</td>\n",
       "    </tr>\n",
       "    <tr>\n",
       "      <th>4</th>\n",
       "      <td>Surface</td>\n",
       "      <td>my Surface Pro 2017 (a fanless i5 one) was get...</td>\n",
       "      <td>TIL: Surface Dock software can be updated and ...</td>\n",
       "      <td>0</td>\n",
       "      <td>2021-03-17 21:06:15</td>\n",
       "      <td>TIL: Surface Dock software can be updated and ...</td>\n",
       "    </tr>\n",
       "    <tr>\n",
       "      <th>...</th>\n",
       "      <td>...</td>\n",
       "      <td>...</td>\n",
       "      <td>...</td>\n",
       "      <td>...</td>\n",
       "      <td>...</td>\n",
       "      <td>...</td>\n",
       "    </tr>\n",
       "    <tr>\n",
       "      <th>1554</th>\n",
       "      <td>ipad</td>\n",
       "      <td></td>\n",
       "      <td>A simple iPad Pro station</td>\n",
       "      <td>122</td>\n",
       "      <td>2021-02-05 03:41:38</td>\n",
       "      <td>A simple iPad Pro station</td>\n",
       "    </tr>\n",
       "    <tr>\n",
       "      <th>1555</th>\n",
       "      <td>ipad</td>\n",
       "      <td>Guys - wondering your thoughts on this.  I'm s...</td>\n",
       "      <td>iPad Air 4 - Text Blur While Scrolling</td>\n",
       "      <td>5</td>\n",
       "      <td>2021-02-06 08:16:50</td>\n",
       "      <td>iPad Air 4 - Text Blur While Scrolling Guys - ...</td>\n",
       "    </tr>\n",
       "    <tr>\n",
       "      <th>1556</th>\n",
       "      <td>ipad</td>\n",
       "      <td>Good Morning:\\n\\nI am looking for a wireless c...</td>\n",
       "      <td>iPad Air (4th Gen) wireless charging stand</td>\n",
       "      <td>2</td>\n",
       "      <td>2021-02-06 02:24:17</td>\n",
       "      <td>iPad Air (4th Gen) wireless charging stand Goo...</td>\n",
       "    </tr>\n",
       "    <tr>\n",
       "      <th>1557</th>\n",
       "      <td>ipad</td>\n",
       "      <td>Hi there. I'm an artist who deals with a lot o...</td>\n",
       "      <td>Moving images from photos app to files</td>\n",
       "      <td>6</td>\n",
       "      <td>2021-02-05 23:51:04</td>\n",
       "      <td>Moving images from photos app to files Hi ther...</td>\n",
       "    </tr>\n",
       "    <tr>\n",
       "      <th>1558</th>\n",
       "      <td>ipad</td>\n",
       "      <td>Hello there, i just got my first ipad recently...</td>\n",
       "      <td>Switching Audio Input</td>\n",
       "      <td>3</td>\n",
       "      <td>2021-02-06 01:12:13</td>\n",
       "      <td>Switching Audio Input Hello there, i just got ...</td>\n",
       "    </tr>\n",
       "  </tbody>\n",
       "</table>\n",
       "<p>1559 rows × 6 columns</p>\n",
       "</div>"
      ],
      "text/plain": [
       "     subreddit                                           selftext  \\\n",
       "0      Surface  # Purchase Advice Thread\\n\\nPeople are always ...   \n",
       "1      Surface                                                      \n",
       "2      Surface                                                      \n",
       "3      Surface                                                      \n",
       "4      Surface  my Surface Pro 2017 (a fanless i5 one) was get...   \n",
       "...        ...                                                ...   \n",
       "1554      ipad                                                      \n",
       "1555      ipad  Guys - wondering your thoughts on this.  I'm s...   \n",
       "1556      ipad  Good Morning:\\n\\nI am looking for a wireless c...   \n",
       "1557      ipad  Hi there. I'm an artist who deals with a lot o...   \n",
       "1558      ipad  Hello there, i just got my first ipad recently...   \n",
       "\n",
       "                                                  title  num_comments  \\\n",
       "0                     Purchase Advice Thread (March 15)            16   \n",
       "1     Phil Spencer playing Xbox games on an unreleas...            85   \n",
       "2     Appreciation post - Home office and entertainm...             2   \n",
       "3     Took advantage of the discount to upgrade from...            11   \n",
       "4     TIL: Surface Dock software can be updated and ...             0   \n",
       "...                                                 ...           ...   \n",
       "1554                          A simple iPad Pro station           122   \n",
       "1555             iPad Air 4 - Text Blur While Scrolling             5   \n",
       "1556         iPad Air (4th Gen) wireless charging stand             2   \n",
       "1557             Moving images from photos app to files             6   \n",
       "1558                              Switching Audio Input             3   \n",
       "\n",
       "            created_gmt7                                               text  \n",
       "0    2021-03-15 16:00:15  Purchase Advice Thread (March 15) # Purchase A...  \n",
       "1    2021-03-17 01:48:10  Phil Spencer playing Xbox games on an unreleas...  \n",
       "2    2021-03-17 17:35:49  Appreciation post - Home office and entertainm...  \n",
       "3    2021-03-17 08:23:17  Took advantage of the discount to upgrade from...  \n",
       "4    2021-03-17 21:06:15  TIL: Surface Dock software can be updated and ...  \n",
       "...                  ...                                                ...  \n",
       "1554 2021-02-05 03:41:38                         A simple iPad Pro station   \n",
       "1555 2021-02-06 08:16:50  iPad Air 4 - Text Blur While Scrolling Guys - ...  \n",
       "1556 2021-02-06 02:24:17  iPad Air (4th Gen) wireless charging stand Goo...  \n",
       "1557 2021-02-05 23:51:04  Moving images from photos app to files Hi ther...  \n",
       "1558 2021-02-06 01:12:13  Switching Audio Input Hello there, i just got ...  \n",
       "\n",
       "[1559 rows x 6 columns]"
      ]
     },
     "execution_count": 17,
     "metadata": {},
     "output_type": "execute_result"
    }
   ],
   "source": [
    "data = pd.concat([surface,ipad],axis=0).reset_index(drop=True)\n",
    "data"
   ]
  },
  {
   "cell_type": "code",
   "execution_count": 18,
   "metadata": {},
   "outputs": [
    {
     "data": {
      "text/plain": [
       "Surface    990\n",
       "ipad       569\n",
       "Name: subreddit, dtype: int64"
      ]
     },
     "execution_count": 18,
     "metadata": {},
     "output_type": "execute_result"
    }
   ],
   "source": [
    "data.subreddit.value_counts()"
   ]
  },
  {
   "cell_type": "markdown",
   "metadata": {},
   "source": [
    "# Exploratory Data Analysis"
   ]
  },
  {
   "cell_type": "code",
   "execution_count": 19,
   "metadata": {
    "scrolled": true
   },
   "outputs": [
    {
     "data": {
      "text/html": [
       "<div>\n",
       "<style scoped>\n",
       "    .dataframe tbody tr th:only-of-type {\n",
       "        vertical-align: middle;\n",
       "    }\n",
       "\n",
       "    .dataframe tbody tr th {\n",
       "        vertical-align: top;\n",
       "    }\n",
       "\n",
       "    .dataframe thead th {\n",
       "        text-align: right;\n",
       "    }\n",
       "</style>\n",
       "<table border=\"1\" class=\"dataframe\">\n",
       "  <thead>\n",
       "    <tr style=\"text-align: right;\">\n",
       "      <th></th>\n",
       "      <th>subreddit</th>\n",
       "      <th>selftext</th>\n",
       "      <th>title</th>\n",
       "      <th>num_comments</th>\n",
       "      <th>created_gmt7</th>\n",
       "      <th>text</th>\n",
       "      <th>created_day</th>\n",
       "      <th>created_hour</th>\n",
       "      <th>days_of_week</th>\n",
       "    </tr>\n",
       "  </thead>\n",
       "  <tbody>\n",
       "    <tr>\n",
       "      <th>0</th>\n",
       "      <td>Surface</td>\n",
       "      <td># Purchase Advice Thread\\n\\nPeople are always ...</td>\n",
       "      <td>Purchase Advice Thread (March 15)</td>\n",
       "      <td>16</td>\n",
       "      <td>2021-03-15 16:00:00</td>\n",
       "      <td>Purchase Advice Thread (March 15) # Purchase A...</td>\n",
       "      <td>2021-03-16</td>\n",
       "      <td>16</td>\n",
       "      <td>Monday</td>\n",
       "    </tr>\n",
       "    <tr>\n",
       "      <th>1</th>\n",
       "      <td>Surface</td>\n",
       "      <td></td>\n",
       "      <td>Phil Spencer playing Xbox games on an unreleas...</td>\n",
       "      <td>85</td>\n",
       "      <td>2021-03-17 02:00:00</td>\n",
       "      <td>Phil Spencer playing Xbox games on an unreleas...</td>\n",
       "      <td>2021-03-17</td>\n",
       "      <td>2</td>\n",
       "      <td>Wednesday</td>\n",
       "    </tr>\n",
       "    <tr>\n",
       "      <th>2</th>\n",
       "      <td>Surface</td>\n",
       "      <td></td>\n",
       "      <td>Appreciation post - Home office and entertainm...</td>\n",
       "      <td>2</td>\n",
       "      <td>2021-03-17 18:00:00</td>\n",
       "      <td>Appreciation post - Home office and entertainm...</td>\n",
       "      <td>2021-03-18</td>\n",
       "      <td>18</td>\n",
       "      <td>Wednesday</td>\n",
       "    </tr>\n",
       "    <tr>\n",
       "      <th>3</th>\n",
       "      <td>Surface</td>\n",
       "      <td></td>\n",
       "      <td>Took advantage of the discount to upgrade from...</td>\n",
       "      <td>11</td>\n",
       "      <td>2021-03-17 08:00:00</td>\n",
       "      <td>Took advantage of the discount to upgrade from...</td>\n",
       "      <td>2021-03-17</td>\n",
       "      <td>8</td>\n",
       "      <td>Wednesday</td>\n",
       "    </tr>\n",
       "    <tr>\n",
       "      <th>4</th>\n",
       "      <td>Surface</td>\n",
       "      <td>my Surface Pro 2017 (a fanless i5 one) was get...</td>\n",
       "      <td>TIL: Surface Dock software can be updated and ...</td>\n",
       "      <td>0</td>\n",
       "      <td>2021-03-17 21:00:00</td>\n",
       "      <td>TIL: Surface Dock software can be updated and ...</td>\n",
       "      <td>2021-03-18</td>\n",
       "      <td>21</td>\n",
       "      <td>Wednesday</td>\n",
       "    </tr>\n",
       "  </tbody>\n",
       "</table>\n",
       "</div>"
      ],
      "text/plain": [
       "  subreddit                                           selftext  \\\n",
       "0   Surface  # Purchase Advice Thread\\n\\nPeople are always ...   \n",
       "1   Surface                                                      \n",
       "2   Surface                                                      \n",
       "3   Surface                                                      \n",
       "4   Surface  my Surface Pro 2017 (a fanless i5 one) was get...   \n",
       "\n",
       "                                               title  num_comments  \\\n",
       "0                  Purchase Advice Thread (March 15)            16   \n",
       "1  Phil Spencer playing Xbox games on an unreleas...            85   \n",
       "2  Appreciation post - Home office and entertainm...             2   \n",
       "3  Took advantage of the discount to upgrade from...            11   \n",
       "4  TIL: Surface Dock software can be updated and ...             0   \n",
       "\n",
       "         created_gmt7                                               text  \\\n",
       "0 2021-03-15 16:00:00  Purchase Advice Thread (March 15) # Purchase A...   \n",
       "1 2021-03-17 02:00:00  Phil Spencer playing Xbox games on an unreleas...   \n",
       "2 2021-03-17 18:00:00  Appreciation post - Home office and entertainm...   \n",
       "3 2021-03-17 08:00:00  Took advantage of the discount to upgrade from...   \n",
       "4 2021-03-17 21:00:00  TIL: Surface Dock software can be updated and ...   \n",
       "\n",
       "  created_day  created_hour days_of_week  \n",
       "0  2021-03-16            16       Monday  \n",
       "1  2021-03-17             2    Wednesday  \n",
       "2  2021-03-18            18    Wednesday  \n",
       "3  2021-03-17             8    Wednesday  \n",
       "4  2021-03-18            21    Wednesday  "
      ]
     },
     "execution_count": 19,
     "metadata": {},
     "output_type": "execute_result"
    }
   ],
   "source": [
    "data.created_gmt7 = data.created_gmt7.dt.round('H') #round out minute and second\n",
    "data['created_day'] = data.created_gmt7.dt.round('D').astype('str') #use for plotting\n",
    "data['created_hour'] = data.created_gmt7.dt.hour\n",
    "data['days_of_week'] = data.created_gmt7.dt.dayofweek.map({\n",
    "    0:'Monday',1:'Tuesday',2:'Wednesday',3:\"Thursday\",4:\"Friday\",5:'Saturday',6:'Sunday'\n",
    "})\n",
    "data.head()"
   ]
  },
  {
   "cell_type": "code",
   "execution_count": 20,
   "metadata": {},
   "outputs": [],
   "source": [
    "plt.style.use('ggplot') #set style"
   ]
  },
  {
   "cell_type": "code",
   "execution_count": 21,
   "metadata": {},
   "outputs": [
    {
     "data": {
      "text/plain": [
       "Text(0, 0.5, 'Number of posts')"
      ]
     },
     "execution_count": 21,
     "metadata": {},
     "output_type": "execute_result"
    },
    {
     "data": {
      "image/png": "[encoded data removed]",
      "text/plain": [
       "<Figure size 432x288 with 1 Axes>"
      ]
     },
     "metadata": {},
     "output_type": "display_data"
    }
   ],
   "source": [
    "data.subreddit.value_counts().plot(kind='bar')\n",
    "plt.xlabel('Subreddit')\n",
    "plt.ylabel('Number of posts')"
   ]
  },
  {
   "cell_type": "code",
   "execution_count": 22,
   "metadata": {},
   "outputs": [
    {
     "data": {
      "image/png": "[encoded data removed]",
      "text/plain": [
       "<Figure size 720x576 with 1 Axes>"
      ]
     },
     "metadata": {},
     "output_type": "display_data"
    }
   ],
   "source": [
    "#plot number of posts per day of week\n",
    "data.groupby('days_of_week')['subreddit'].value_counts().unstack().reindex(['Sunday','Saturday','Friday','Thursday',\n",
    "                                                                           'Wednesday','Tuesday','Monday']).plot(kind='barh',figsize=(10,8))\n",
    "plt.xlabel('Number of posts');\n"
   ]
  },
  {
   "cell_type": "markdown",
   "metadata": {},
   "source": [
    "For surface subreddit, in the past month, there tends to be post in Tuesday and Wednesday while for iPad there is not much difference in day of posting."
   ]
  },
  {
   "cell_type": "code",
   "execution_count": 23,
   "metadata": {},
   "outputs": [
    {
     "data": {
      "text/plain": [
       "Text(0.5, 1.0, 'Number of posts per day (iPad)')"
      ]
     },
     "execution_count": 23,
     "metadata": {},
     "output_type": "execute_result"
    },
    {
     "data": {
      "image/png": "[encoded data removed]",
      "text/plain": [
       "<Figure size 1080x360 with 2 Axes>"
      ]
     },
     "metadata": {},
     "output_type": "display_data"
    }
   ],
   "source": [
    "#plot Number of posts per day\n",
    "plt.figure(figsize=(15,5))\n",
    "\n",
    "plt.subplot(2,1,1)\n",
    "ax1= data[data['subreddit'] == 'Surface'].groupby('created_day')['text'].count().plot(kind = 'bar')\n",
    "plt.title('Number of posts per day (Surface)')\n",
    "plt.subplot(2,1,2,sharex=ax1)\n",
    "ax2= data[data['subreddit'] == 'ipad'].groupby('created_day')['text'].count().plot(kind = 'bar');\n",
    "plt.title('Number of posts per day (iPad)')"
   ]
  },
  {
   "cell_type": "code",
   "execution_count": 24,
   "metadata": {},
   "outputs": [
    {
     "data": {
      "text/plain": [
       "Text(0.5, 1.0, 'Number of posts per hour (iPad)')"
      ]
     },
     "execution_count": 24,
     "metadata": {},
     "output_type": "execute_result"
    },
    {
     "data": {
      "image/png": "[encoded data removed]",
      "text/plain": [
       "<Figure size 1080x360 with 2 Axes>"
      ]
     },
     "metadata": {},
     "output_type": "display_data"
    }
   ],
   "source": [
    "#plot Number of posts per hour\n",
    "plt.figure(figsize=(15,5))\n",
    "\n",
    "plt.subplot(1,2,1)\n",
    "data[data['subreddit'] == 'Surface'].groupby('created_hour')['text'].count().plot(kind = 'bar')\n",
    "plt.title('Number of posts per hour (Surface)')\n",
    "\n",
    "plt.subplot(1,2,2)\n",
    "data[data['subreddit'] == 'ipad'].groupby('created_hour')['text'].count().plot(kind = 'bar');\n",
    "plt.title('Number of posts per hour (iPad)')"
   ]
  },
  {
   "cell_type": "code",
   "execution_count": 25,
   "metadata": {
    "scrolled": true
   },
   "outputs": [
    {
     "data": {
      "image/png": "[encoded data removed]",
      "text/plain": [
       "<Figure size 432x288 with 1 Axes>"
      ]
     },
     "metadata": {},
     "output_type": "display_data"
    }
   ],
   "source": [
    "#plot avearage number of comments per post\n",
    "data.groupby('subreddit')['num_comments'].mean().plot(kind='bar')\n",
    "plt.title('Average number of comments');"
   ]
  },
  {
   "cell_type": "markdown",
   "metadata": {},
   "source": [
    "# Data Modeling"
   ]
  },
  {
   "cell_type": "markdown",
   "metadata": {},
   "source": [
    "convert subreddit into binary:\n",
    "- surface = 0\n",
    "- ipad = 1"
   ]
  },
  {
   "cell_type": "code",
   "execution_count": 26,
   "metadata": {
    "scrolled": false
   },
   "outputs": [
    {
     "data": {
      "text/html": [
       "<div>\n",
       "<style scoped>\n",
       "    .dataframe tbody tr th:only-of-type {\n",
       "        vertical-align: middle;\n",
       "    }\n",
       "\n",
       "    .dataframe tbody tr th {\n",
       "        vertical-align: top;\n",
       "    }\n",
       "\n",
       "    .dataframe thead th {\n",
       "        text-align: right;\n",
       "    }\n",
       "</style>\n",
       "<table border=\"1\" class=\"dataframe\">\n",
       "  <thead>\n",
       "    <tr style=\"text-align: right;\">\n",
       "      <th></th>\n",
       "      <th>subreddit</th>\n",
       "      <th>selftext</th>\n",
       "      <th>title</th>\n",
       "      <th>num_comments</th>\n",
       "      <th>created_gmt7</th>\n",
       "      <th>text</th>\n",
       "      <th>created_day</th>\n",
       "      <th>created_hour</th>\n",
       "      <th>days_of_week</th>\n",
       "    </tr>\n",
       "  </thead>\n",
       "  <tbody>\n",
       "    <tr>\n",
       "      <th>0</th>\n",
       "      <td>0</td>\n",
       "      <td># Purchase Advice Thread\\n\\nPeople are always ...</td>\n",
       "      <td>Purchase Advice Thread (March 15)</td>\n",
       "      <td>16</td>\n",
       "      <td>2021-03-15 16:00:00</td>\n",
       "      <td>Purchase Advice Thread (March 15) # Purchase A...</td>\n",
       "      <td>2021-03-16</td>\n",
       "      <td>16</td>\n",
       "      <td>Monday</td>\n",
       "    </tr>\n",
       "    <tr>\n",
       "      <th>1</th>\n",
       "      <td>0</td>\n",
       "      <td></td>\n",
       "      <td>Phil Spencer playing Xbox games on an unreleas...</td>\n",
       "      <td>85</td>\n",
       "      <td>2021-03-17 02:00:00</td>\n",
       "      <td>Phil Spencer playing Xbox games on an unreleas...</td>\n",
       "      <td>2021-03-17</td>\n",
       "      <td>2</td>\n",
       "      <td>Wednesday</td>\n",
       "    </tr>\n",
       "    <tr>\n",
       "      <th>2</th>\n",
       "      <td>0</td>\n",
       "      <td></td>\n",
       "      <td>Appreciation post - Home office and entertainm...</td>\n",
       "      <td>2</td>\n",
       "      <td>2021-03-17 18:00:00</td>\n",
       "      <td>Appreciation post - Home office and entertainm...</td>\n",
       "      <td>2021-03-18</td>\n",
       "      <td>18</td>\n",
       "      <td>Wednesday</td>\n",
       "    </tr>\n",
       "    <tr>\n",
       "      <th>3</th>\n",
       "      <td>0</td>\n",
       "      <td></td>\n",
       "      <td>Took advantage of the discount to upgrade from...</td>\n",
       "      <td>11</td>\n",
       "      <td>2021-03-17 08:00:00</td>\n",
       "      <td>Took advantage of the discount to upgrade from...</td>\n",
       "      <td>2021-03-17</td>\n",
       "      <td>8</td>\n",
       "      <td>Wednesday</td>\n",
       "    </tr>\n",
       "    <tr>\n",
       "      <th>4</th>\n",
       "      <td>0</td>\n",
       "      <td>my Surface Pro 2017 (a fanless i5 one) was get...</td>\n",
       "      <td>TIL: Surface Dock software can be updated and ...</td>\n",
       "      <td>0</td>\n",
       "      <td>2021-03-17 21:00:00</td>\n",
       "      <td>TIL: Surface Dock software can be updated and ...</td>\n",
       "      <td>2021-03-18</td>\n",
       "      <td>21</td>\n",
       "      <td>Wednesday</td>\n",
       "    </tr>\n",
       "    <tr>\n",
       "      <th>...</th>\n",
       "      <td>...</td>\n",
       "      <td>...</td>\n",
       "      <td>...</td>\n",
       "      <td>...</td>\n",
       "      <td>...</td>\n",
       "      <td>...</td>\n",
       "      <td>...</td>\n",
       "      <td>...</td>\n",
       "      <td>...</td>\n",
       "    </tr>\n",
       "    <tr>\n",
       "      <th>1554</th>\n",
       "      <td>1</td>\n",
       "      <td></td>\n",
       "      <td>A simple iPad Pro station</td>\n",
       "      <td>122</td>\n",
       "      <td>2021-02-05 04:00:00</td>\n",
       "      <td>A simple iPad Pro station</td>\n",
       "      <td>2021-02-05</td>\n",
       "      <td>4</td>\n",
       "      <td>Friday</td>\n",
       "    </tr>\n",
       "    <tr>\n",
       "      <th>1555</th>\n",
       "      <td>1</td>\n",
       "      <td>Guys - wondering your thoughts on this.  I'm s...</td>\n",
       "      <td>iPad Air 4 - Text Blur While Scrolling</td>\n",
       "      <td>5</td>\n",
       "      <td>2021-02-06 08:00:00</td>\n",
       "      <td>iPad Air 4 - Text Blur While Scrolling Guys - ...</td>\n",
       "      <td>2021-02-06</td>\n",
       "      <td>8</td>\n",
       "      <td>Saturday</td>\n",
       "    </tr>\n",
       "    <tr>\n",
       "      <th>1556</th>\n",
       "      <td>1</td>\n",
       "      <td>Good Morning:\\n\\nI am looking for a wireless c...</td>\n",
       "      <td>iPad Air (4th Gen) wireless charging stand</td>\n",
       "      <td>2</td>\n",
       "      <td>2021-02-06 02:00:00</td>\n",
       "      <td>iPad Air (4th Gen) wireless charging stand Goo...</td>\n",
       "      <td>2021-02-06</td>\n",
       "      <td>2</td>\n",
       "      <td>Saturday</td>\n",
       "    </tr>\n",
       "    <tr>\n",
       "      <th>1557</th>\n",
       "      <td>1</td>\n",
       "      <td>Hi there. I'm an artist who deals with a lot o...</td>\n",
       "      <td>Moving images from photos app to files</td>\n",
       "      <td>6</td>\n",
       "      <td>2021-02-06 00:00:00</td>\n",
       "      <td>Moving images from photos app to files Hi ther...</td>\n",
       "      <td>2021-02-06</td>\n",
       "      <td>0</td>\n",
       "      <td>Saturday</td>\n",
       "    </tr>\n",
       "    <tr>\n",
       "      <th>1558</th>\n",
       "      <td>1</td>\n",
       "      <td>Hello there, i just got my first ipad recently...</td>\n",
       "      <td>Switching Audio Input</td>\n",
       "      <td>3</td>\n",
       "      <td>2021-02-06 01:00:00</td>\n",
       "      <td>Switching Audio Input Hello there, i just got ...</td>\n",
       "      <td>2021-02-06</td>\n",
       "      <td>1</td>\n",
       "      <td>Saturday</td>\n",
       "    </tr>\n",
       "  </tbody>\n",
       "</table>\n",
       "<p>1559 rows × 9 columns</p>\n",
       "</div>"
      ],
      "text/plain": [
       "      subreddit                                           selftext  \\\n",
       "0             0  # Purchase Advice Thread\\n\\nPeople are always ...   \n",
       "1             0                                                      \n",
       "2             0                                                      \n",
       "3             0                                                      \n",
       "4             0  my Surface Pro 2017 (a fanless i5 one) was get...   \n",
       "...         ...                                                ...   \n",
       "1554          1                                                      \n",
       "1555          1  Guys - wondering your thoughts on this.  I'm s...   \n",
       "1556          1  Good Morning:\\n\\nI am looking for a wireless c...   \n",
       "1557          1  Hi there. I'm an artist who deals with a lot o...   \n",
       "1558          1  Hello there, i just got my first ipad recently...   \n",
       "\n",
       "                                                  title  num_comments  \\\n",
       "0                     Purchase Advice Thread (March 15)            16   \n",
       "1     Phil Spencer playing Xbox games on an unreleas...            85   \n",
       "2     Appreciation post - Home office and entertainm...             2   \n",
       "3     Took advantage of the discount to upgrade from...            11   \n",
       "4     TIL: Surface Dock software can be updated and ...             0   \n",
       "...                                                 ...           ...   \n",
       "1554                          A simple iPad Pro station           122   \n",
       "1555             iPad Air 4 - Text Blur While Scrolling             5   \n",
       "1556         iPad Air (4th Gen) wireless charging stand             2   \n",
       "1557             Moving images from photos app to files             6   \n",
       "1558                              Switching Audio Input             3   \n",
       "\n",
       "            created_gmt7                                               text  \\\n",
       "0    2021-03-15 16:00:00  Purchase Advice Thread (March 15) # Purchase A...   \n",
       "1    2021-03-17 02:00:00  Phil Spencer playing Xbox games on an unreleas...   \n",
       "2    2021-03-17 18:00:00  Appreciation post - Home office and entertainm...   \n",
       "3    2021-03-17 08:00:00  Took advantage of the discount to upgrade from...   \n",
       "4    2021-03-17 21:00:00  TIL: Surface Dock software can be updated and ...   \n",
       "...                  ...                                                ...   \n",
       "1554 2021-02-05 04:00:00                         A simple iPad Pro station    \n",
       "1555 2021-02-06 08:00:00  iPad Air 4 - Text Blur While Scrolling Guys - ...   \n",
       "1556 2021-02-06 02:00:00  iPad Air (4th Gen) wireless charging stand Goo...   \n",
       "1557 2021-02-06 00:00:00  Moving images from photos app to files Hi ther...   \n",
       "1558 2021-02-06 01:00:00  Switching Audio Input Hello there, i just got ...   \n",
       "\n",
       "     created_day  created_hour days_of_week  \n",
       "0     2021-03-16            16       Monday  \n",
       "1     2021-03-17             2    Wednesday  \n",
       "2     2021-03-18            18    Wednesday  \n",
       "3     2021-03-17             8    Wednesday  \n",
       "4     2021-03-18            21    Wednesday  \n",
       "...          ...           ...          ...  \n",
       "1554  2021-02-05             4       Friday  \n",
       "1555  2021-02-06             8     Saturday  \n",
       "1556  2021-02-06             2     Saturday  \n",
       "1557  2021-02-06             0     Saturday  \n",
       "1558  2021-02-06             1     Saturday  \n",
       "\n",
       "[1559 rows x 9 columns]"
      ]
     },
     "execution_count": 26,
     "metadata": {},
     "output_type": "execute_result"
    }
   ],
   "source": [
    "data['subreddit']= data.subreddit.map({\"Surface\":0,\"ipad\":1})\n",
    "data"
   ]
  },
  {
   "cell_type": "markdown",
   "metadata": {},
   "source": [
    "### Clean text before putting into model"
   ]
  },
  {
   "cell_type": "code",
   "execution_count": 27,
   "metadata": {
    "scrolled": true
   },
   "outputs": [
    {
     "name": "stderr",
     "output_type": "stream",
     "text": [
      "[nltk_data] Downloading package stopwords to\n",
      "[nltk_data]     C:\\Users\\Dip\\AppData\\Roaming\\nltk_data...\n",
      "[nltk_data]   Package stopwords is already up-to-date!\n"
     ]
    },
    {
     "data": {
      "text/plain": [
       "True"
      ]
     },
     "execution_count": 27,
     "metadata": {},
     "output_type": "execute_result"
    }
   ],
   "source": [
    "# Import stopwords.\n",
    "import nltk\n",
    "from nltk.corpus import stopwords \n",
    "nltk.download('stopwords')"
   ]
  },
  {
   "cell_type": "code",
   "execution_count": 28,
   "metadata": {
    "scrolled": true
   },
   "outputs": [
    {
     "data": {
      "text/plain": [
       "['a',\n",
       " 'about',\n",
       " 'above',\n",
       " 'after',\n",
       " 'again',\n",
       " 'against',\n",
       " 'ain',\n",
       " 'all',\n",
       " 'am',\n",
       " 'an',\n",
       " 'and',\n",
       " 'any',\n",
       " 'are',\n",
       " 'aren',\n",
       " \"aren't\",\n",
       " 'as',\n",
       " 'at',\n",
       " 'be',\n",
       " 'because',\n",
       " 'been',\n",
       " 'before',\n",
       " 'being',\n",
       " 'below',\n",
       " 'between',\n",
       " 'both',\n",
       " 'but',\n",
       " 'by',\n",
       " 'can',\n",
       " 'couldn',\n",
       " \"couldn't\",\n",
       " 'd',\n",
       " 'did',\n",
       " 'didn',\n",
       " \"didn't\",\n",
       " 'do',\n",
       " 'does',\n",
       " 'doesn',\n",
       " \"doesn't\",\n",
       " 'doing',\n",
       " 'don',\n",
       " \"don't\",\n",
       " 'down',\n",
       " 'during',\n",
       " 'each',\n",
       " 'few',\n",
       " 'for',\n",
       " 'from',\n",
       " 'further',\n",
       " 'had',\n",
       " 'hadn',\n",
       " \"hadn't\",\n",
       " 'has',\n",
       " 'hasn',\n",
       " \"hasn't\",\n",
       " 'have',\n",
       " 'haven',\n",
       " \"haven't\",\n",
       " 'having',\n",
       " 'he',\n",
       " 'her',\n",
       " 'here',\n",
       " 'hers',\n",
       " 'herself',\n",
       " 'him',\n",
       " 'himself',\n",
       " 'his',\n",
       " 'how',\n",
       " 'i',\n",
       " 'if',\n",
       " 'in',\n",
       " 'into',\n",
       " 'ipad',\n",
       " 'ipads',\n",
       " 'is',\n",
       " 'isn',\n",
       " \"isn't\",\n",
       " 'it',\n",
       " \"it's\",\n",
       " 'its',\n",
       " 'itself',\n",
       " 'just',\n",
       " 'll',\n",
       " 'm',\n",
       " 'ma',\n",
       " 'me',\n",
       " 'mightn',\n",
       " \"mightn't\",\n",
       " 'more',\n",
       " 'most',\n",
       " 'mustn',\n",
       " \"mustn't\",\n",
       " 'my',\n",
       " 'myself',\n",
       " 'needn',\n",
       " \"needn't\",\n",
       " 'no',\n",
       " 'nor',\n",
       " 'not',\n",
       " 'now',\n",
       " 'o',\n",
       " 'of',\n",
       " 'off',\n",
       " 'on',\n",
       " 'once',\n",
       " 'only',\n",
       " 'or',\n",
       " 'other',\n",
       " 'our',\n",
       " 'ours',\n",
       " 'ourselves',\n",
       " 'out',\n",
       " 'over',\n",
       " 'own',\n",
       " 're',\n",
       " 's',\n",
       " 'same',\n",
       " 'shan',\n",
       " \"shan't\",\n",
       " 'she',\n",
       " \"she's\",\n",
       " 'should',\n",
       " \"should've\",\n",
       " 'shouldn',\n",
       " \"shouldn't\",\n",
       " 'so',\n",
       " 'some',\n",
       " 'such',\n",
       " 'surface',\n",
       " 'surfaces',\n",
       " 't',\n",
       " 'than',\n",
       " 'that',\n",
       " \"that'll\",\n",
       " 'the',\n",
       " 'their',\n",
       " 'theirs',\n",
       " 'them',\n",
       " 'themselves',\n",
       " 'then',\n",
       " 'there',\n",
       " 'these',\n",
       " 'they',\n",
       " 'this',\n",
       " 'those',\n",
       " 'through',\n",
       " 'to',\n",
       " 'too',\n",
       " 'under',\n",
       " 'until',\n",
       " 'up',\n",
       " 've',\n",
       " 'very',\n",
       " 'was',\n",
       " 'wasn',\n",
       " \"wasn't\",\n",
       " 'we',\n",
       " 'were',\n",
       " 'weren',\n",
       " \"weren't\",\n",
       " 'what',\n",
       " 'when',\n",
       " 'where',\n",
       " 'which',\n",
       " 'while',\n",
       " 'who',\n",
       " 'whom',\n",
       " 'why',\n",
       " 'will',\n",
       " 'with',\n",
       " 'won',\n",
       " \"won't\",\n",
       " 'wouldn',\n",
       " \"wouldn't\",\n",
       " 'y',\n",
       " 'you',\n",
       " \"you'd\",\n",
       " \"you'll\",\n",
       " \"you're\",\n",
       " \"you've\",\n",
       " 'your',\n",
       " 'yours',\n",
       " 'yourself',\n",
       " 'yourselves']"
      ]
     },
     "execution_count": 28,
     "metadata": {},
     "output_type": "execute_result"
    }
   ],
   "source": [
    "#create list of stopwords\n",
    "stopword_list = stopwords.words(\"english\")\n",
    "add_stopwords = ['surface','surfaces','ipad','ipads']\n",
    "stopword_list.extend(add_stopwords)\n",
    "stopword_list = sorted(list(set(stopword_list)))\n",
    "stopword_list"
   ]
  },
  {
   "cell_type": "code",
   "execution_count": 29,
   "metadata": {},
   "outputs": [],
   "source": [
    "from nltk.tokenize import RegexpTokenizer\n",
    "from nltk.stem.porter import PorterStemmer\n",
    "import re\n",
    "def robust_text(text,stopword_list):\n",
    "    \"\"\" Receive text as type string and \n",
    "    - remove none letter\n",
    "    - convert all text to lowercase,\n",
    "    - remove punctuation,\n",
    "    - stem or lemmatize each word of the text,\n",
    "    - remove stopwords.\n",
    "    \"\"\"\n",
    "    text_letter = re.sub(\"[^A-Za-z]\",\" \",text)\n",
    "    tokenizer = RegexpTokenizer(r'\\w+')\n",
    "    tokens = tokenizer.tokenize(text_letter.lower())\n",
    "    tokens_no_stop = [w for w in tokens if w not in stopword_list ]\n",
    "    p_stemmer = PorterStemmer()\n",
    "    stem_word = []\n",
    "    for w in tokens_no_stop:\n",
    "        stem_word.append(p_stemmer.stem(w))\n",
    "    result = \" \"\n",
    "    return result.join(stem_word)"
   ]
  },
  {
   "cell_type": "code",
   "execution_count": 30,
   "metadata": {
    "scrolled": false
   },
   "outputs": [
    {
     "data": {
      "text/html": [
       "<div>\n",
       "<style scoped>\n",
       "    .dataframe tbody tr th:only-of-type {\n",
       "        vertical-align: middle;\n",
       "    }\n",
       "\n",
       "    .dataframe tbody tr th {\n",
       "        vertical-align: top;\n",
       "    }\n",
       "\n",
       "    .dataframe thead th {\n",
       "        text-align: right;\n",
       "    }\n",
       "</style>\n",
       "<table border=\"1\" class=\"dataframe\">\n",
       "  <thead>\n",
       "    <tr style=\"text-align: right;\">\n",
       "      <th></th>\n",
       "      <th>subreddit</th>\n",
       "      <th>selftext</th>\n",
       "      <th>title</th>\n",
       "      <th>num_comments</th>\n",
       "      <th>created_gmt7</th>\n",
       "      <th>text</th>\n",
       "      <th>created_day</th>\n",
       "      <th>created_hour</th>\n",
       "      <th>days_of_week</th>\n",
       "    </tr>\n",
       "  </thead>\n",
       "  <tbody>\n",
       "    <tr>\n",
       "      <th>0</th>\n",
       "      <td>0</td>\n",
       "      <td># Purchase Advice Thread\\n\\nPeople are always ...</td>\n",
       "      <td>Purchase Advice Thread (March 15)</td>\n",
       "      <td>16</td>\n",
       "      <td>2021-03-15 16:00:00</td>\n",
       "      <td>purchas advic thread march purchas advic threa...</td>\n",
       "      <td>2021-03-16</td>\n",
       "      <td>16</td>\n",
       "      <td>Monday</td>\n",
       "    </tr>\n",
       "    <tr>\n",
       "      <th>1</th>\n",
       "      <td>0</td>\n",
       "      <td></td>\n",
       "      <td>Phil Spencer playing Xbox games on an unreleas...</td>\n",
       "      <td>85</td>\n",
       "      <td>2021-03-17 02:00:00</td>\n",
       "      <td>phil spencer play xbox game unreleas xcloud ap...</td>\n",
       "      <td>2021-03-17</td>\n",
       "      <td>2</td>\n",
       "      <td>Wednesday</td>\n",
       "    </tr>\n",
       "    <tr>\n",
       "      <th>2</th>\n",
       "      <td>0</td>\n",
       "      <td></td>\n",
       "      <td>Appreciation post - Home office and entertainm...</td>\n",
       "      <td>2</td>\n",
       "      <td>2021-03-17 18:00:00</td>\n",
       "      <td>appreci post home offic entertain corner touch</td>\n",
       "      <td>2021-03-18</td>\n",
       "      <td>18</td>\n",
       "      <td>Wednesday</td>\n",
       "    </tr>\n",
       "    <tr>\n",
       "      <th>3</th>\n",
       "      <td>0</td>\n",
       "      <td></td>\n",
       "      <td>Took advantage of the discount to upgrade from...</td>\n",
       "      <td>11</td>\n",
       "      <td>2021-03-17 08:00:00</td>\n",
       "      <td>took advantag discount upgrad die go</td>\n",
       "      <td>2021-03-17</td>\n",
       "      <td>8</td>\n",
       "      <td>Wednesday</td>\n",
       "    </tr>\n",
       "    <tr>\n",
       "      <th>4</th>\n",
       "      <td>0</td>\n",
       "      <td>my Surface Pro 2017 (a fanless i5 one) was get...</td>\n",
       "      <td>TIL: Surface Dock software can be updated and ...</td>\n",
       "      <td>0</td>\n",
       "      <td>2021-03-17 21:00:00</td>\n",
       "      <td>til dock softwar updat may help overh issu pro...</td>\n",
       "      <td>2021-03-18</td>\n",
       "      <td>21</td>\n",
       "      <td>Wednesday</td>\n",
       "    </tr>\n",
       "    <tr>\n",
       "      <th>...</th>\n",
       "      <td>...</td>\n",
       "      <td>...</td>\n",
       "      <td>...</td>\n",
       "      <td>...</td>\n",
       "      <td>...</td>\n",
       "      <td>...</td>\n",
       "      <td>...</td>\n",
       "      <td>...</td>\n",
       "      <td>...</td>\n",
       "    </tr>\n",
       "    <tr>\n",
       "      <th>1554</th>\n",
       "      <td>1</td>\n",
       "      <td></td>\n",
       "      <td>A simple iPad Pro station</td>\n",
       "      <td>122</td>\n",
       "      <td>2021-02-05 04:00:00</td>\n",
       "      <td>simpl pro station</td>\n",
       "      <td>2021-02-05</td>\n",
       "      <td>4</td>\n",
       "      <td>Friday</td>\n",
       "    </tr>\n",
       "    <tr>\n",
       "      <th>1555</th>\n",
       "      <td>1</td>\n",
       "      <td>Guys - wondering your thoughts on this.  I'm s...</td>\n",
       "      <td>iPad Air 4 - Text Blur While Scrolling</td>\n",
       "      <td>5</td>\n",
       "      <td>2021-02-06 08:00:00</td>\n",
       "      <td>air text blur scroll guy wonder thought strugg...</td>\n",
       "      <td>2021-02-06</td>\n",
       "      <td>8</td>\n",
       "      <td>Saturday</td>\n",
       "    </tr>\n",
       "    <tr>\n",
       "      <th>1556</th>\n",
       "      <td>1</td>\n",
       "      <td>Good Morning:\\n\\nI am looking for a wireless c...</td>\n",
       "      <td>iPad Air (4th Gen) wireless charging stand</td>\n",
       "      <td>2</td>\n",
       "      <td>2021-02-06 02:00:00</td>\n",
       "      <td>air th gen wireless charg stand good morn look...</td>\n",
       "      <td>2021-02-06</td>\n",
       "      <td>2</td>\n",
       "      <td>Saturday</td>\n",
       "    </tr>\n",
       "    <tr>\n",
       "      <th>1557</th>\n",
       "      <td>1</td>\n",
       "      <td>Hi there. I'm an artist who deals with a lot o...</td>\n",
       "      <td>Moving images from photos app to files</td>\n",
       "      <td>6</td>\n",
       "      <td>2021-02-06 00:00:00</td>\n",
       "      <td>move imag photo app file hi artist deal lot re...</td>\n",
       "      <td>2021-02-06</td>\n",
       "      <td>0</td>\n",
       "      <td>Saturday</td>\n",
       "    </tr>\n",
       "    <tr>\n",
       "      <th>1558</th>\n",
       "      <td>1</td>\n",
       "      <td>Hello there, i just got my first ipad recently...</td>\n",
       "      <td>Switching Audio Input</td>\n",
       "      <td>3</td>\n",
       "      <td>2021-02-06 01:00:00</td>\n",
       "      <td>switch audio input hello got first recent mode...</td>\n",
       "      <td>2021-02-06</td>\n",
       "      <td>1</td>\n",
       "      <td>Saturday</td>\n",
       "    </tr>\n",
       "  </tbody>\n",
       "</table>\n",
       "<p>1559 rows × 9 columns</p>\n",
       "</div>"
      ],
      "text/plain": [
       "      subreddit                                           selftext  \\\n",
       "0             0  # Purchase Advice Thread\\n\\nPeople are always ...   \n",
       "1             0                                                      \n",
       "2             0                                                      \n",
       "3             0                                                      \n",
       "4             0  my Surface Pro 2017 (a fanless i5 one) was get...   \n",
       "...         ...                                                ...   \n",
       "1554          1                                                      \n",
       "1555          1  Guys - wondering your thoughts on this.  I'm s...   \n",
       "1556          1  Good Morning:\\n\\nI am looking for a wireless c...   \n",
       "1557          1  Hi there. I'm an artist who deals with a lot o...   \n",
       "1558          1  Hello there, i just got my first ipad recently...   \n",
       "\n",
       "                                                  title  num_comments  \\\n",
       "0                     Purchase Advice Thread (March 15)            16   \n",
       "1     Phil Spencer playing Xbox games on an unreleas...            85   \n",
       "2     Appreciation post - Home office and entertainm...             2   \n",
       "3     Took advantage of the discount to upgrade from...            11   \n",
       "4     TIL: Surface Dock software can be updated and ...             0   \n",
       "...                                                 ...           ...   \n",
       "1554                          A simple iPad Pro station           122   \n",
       "1555             iPad Air 4 - Text Blur While Scrolling             5   \n",
       "1556         iPad Air (4th Gen) wireless charging stand             2   \n",
       "1557             Moving images from photos app to files             6   \n",
       "1558                              Switching Audio Input             3   \n",
       "\n",
       "            created_gmt7                                               text  \\\n",
       "0    2021-03-15 16:00:00  purchas advic thread march purchas advic threa...   \n",
       "1    2021-03-17 02:00:00  phil spencer play xbox game unreleas xcloud ap...   \n",
       "2    2021-03-17 18:00:00     appreci post home offic entertain corner touch   \n",
       "3    2021-03-17 08:00:00               took advantag discount upgrad die go   \n",
       "4    2021-03-17 21:00:00  til dock softwar updat may help overh issu pro...   \n",
       "...                  ...                                                ...   \n",
       "1554 2021-02-05 04:00:00                                  simpl pro station   \n",
       "1555 2021-02-06 08:00:00  air text blur scroll guy wonder thought strugg...   \n",
       "1556 2021-02-06 02:00:00  air th gen wireless charg stand good morn look...   \n",
       "1557 2021-02-06 00:00:00  move imag photo app file hi artist deal lot re...   \n",
       "1558 2021-02-06 01:00:00  switch audio input hello got first recent mode...   \n",
       "\n",
       "     created_day  created_hour days_of_week  \n",
       "0     2021-03-16            16       Monday  \n",
       "1     2021-03-17             2    Wednesday  \n",
       "2     2021-03-18            18    Wednesday  \n",
       "3     2021-03-17             8    Wednesday  \n",
       "4     2021-03-18            21    Wednesday  \n",
       "...          ...           ...          ...  \n",
       "1554  2021-02-05             4       Friday  \n",
       "1555  2021-02-06             8     Saturday  \n",
       "1556  2021-02-06             2     Saturday  \n",
       "1557  2021-02-06             0     Saturday  \n",
       "1558  2021-02-06             1     Saturday  \n",
       "\n",
       "[1559 rows x 9 columns]"
      ]
     },
     "execution_count": 30,
     "metadata": {},
     "output_type": "execute_result"
    }
   ],
   "source": [
    "#clean text\n",
    "data['text'] = [robust_text(t,stopword_list) for t in data['text']]\n",
    "data"
   ]
  },
  {
   "cell_type": "code",
   "execution_count": 31,
   "metadata": {},
   "outputs": [],
   "source": [
    "X = data['text']\n",
    "y = data['subreddit']"
   ]
  },
  {
   "cell_type": "markdown",
   "metadata": {},
   "source": [
    "### Creating Wordcloud"
   ]
  },
  {
   "cell_type": "code",
   "execution_count": 32,
   "metadata": {},
   "outputs": [],
   "source": [
    "#pip install wordcloud"
   ]
  },
  {
   "cell_type": "code",
   "execution_count": 33,
   "metadata": {
    "scrolled": true
   },
   "outputs": [],
   "source": [
    "from wordcloud import WordCloud, STOPWORDS, ImageColorGenerator"
   ]
  },
  {
   "cell_type": "code",
   "execution_count": 34,
   "metadata": {},
   "outputs": [],
   "source": [
    "surface_text = \" \".join(data[data['subreddit'] == 0]['text'])\n",
    "ipad_text = \" \".join(data[data['subreddit'] == 1]['text'])"
   ]
  },
  {
   "cell_type": "code",
   "execution_count": 35,
   "metadata": {},
   "outputs": [],
   "source": [
    "stopwords_wordcloud = set(STOPWORDS)"
   ]
  },
  {
   "cell_type": "code",
   "execution_count": 36,
   "metadata": {
    "scrolled": false
   },
   "outputs": [
    {
     "data": {
      "image/png": "[encoded data removed]",
      "text/plain": [
       "<Figure size 576x432 with 1 Axes>"
      ]
     },
     "metadata": {},
     "output_type": "display_data"
    },
    {
     "data": {
      "image/png": "[encoded data removed]",
      "text/plain": [
       "<Figure size 576x432 with 1 Axes>"
      ]
     },
     "metadata": {},
     "output_type": "display_data"
    }
   ],
   "source": [
    "# Create and generate a word cloud image:\n",
    "wordcloud_sf = WordCloud(scale=4,max_font_size=60, max_words=100, background_color=\"white\",\n",
    "                     stopwords=stopwords_wordcloud).generate(surface_text)\n",
    "\n",
    "# Display the generated image:\n",
    "plt.figure(figsize=(8,6))\n",
    "plt.title(\"Surface's subreddit most common words\",fontsize=30)\n",
    "plt.imshow(wordcloud_sf, interpolation='bilinear')\n",
    "plt.axis(\"off\")\n",
    "plt.show()\n",
    "\n",
    "# Create and generate a word cloud image:\n",
    "wordcloud_ip = WordCloud(scale=4,max_font_size=60, max_words=100, background_color=\"white\",\n",
    "                     stopwords=stopwords_wordcloud).generate(ipad_text)\n",
    "\n",
    "# Display the generated image:\n",
    "plt.figure(figsize=(8,6))\n",
    "plt.title(\"iPad's subreddit most common words\",fontsize=30)\n",
    "plt.imshow(wordcloud_ip, interpolation='bilinear')\n",
    "plt.axis(\"off\")\n",
    "plt.show()\n"
   ]
  },
  {
   "cell_type": "markdown",
   "metadata": {},
   "source": [
    "For surface, they seems to have common words of laptop / book that indicate surface book (one of its line-up) while iPad contain pro,air,appl,pencil indicating its model and accessories"
   ]
  },
  {
   "cell_type": "markdown",
   "metadata": {},
   "source": [
    "### Create model"
   ]
  },
  {
   "cell_type": "code",
   "execution_count": 37,
   "metadata": {},
   "outputs": [],
   "source": [
    "#Import model libraries\n",
    "from sklearn.model_selection import GridSearchCV,train_test_split,cross_val_score\n",
    "from sklearn.pipeline import Pipeline\n",
    "from sklearn.feature_extraction.text import CountVectorizer,TfidfVectorizer\n",
    "from sklearn.linear_model import LogisticRegression\n",
    "from sklearn.neighbors import KNeighborsClassifier\n",
    "from sklearn.tree import DecisionTreeClassifier\n",
    "from sklearn.naive_bayes import MultinomialNB,BernoulliNB\n",
    "from sklearn.ensemble import BaggingClassifier, RandomForestClassifier,AdaBoostClassifier,GradientBoostingClassifier,ExtraTreesClassifier\n"
   ]
  },
  {
   "cell_type": "code",
   "execution_count": 38,
   "metadata": {},
   "outputs": [],
   "source": [
    "def return_score(model,X_train,y_train,X_test,y_test):\n",
    "    model.fit(X_train,y_train)\n",
    "    return model.score(X_train,y_train),cross_val_score(model,X_train,y_train).mean(),model.score(X_test,y_test)"
   ]
  },
  {
   "cell_type": "code",
   "execution_count": 39,
   "metadata": {},
   "outputs": [],
   "source": [
    "def table_score(X,y,transformer,model_list = ''):\n",
    "    \"\"\"return a dataframe with that has r2 score of train,validation,test data using the following estimator,defualt parameter:\n",
    "    \n",
    "    -LogisticRegression\n",
    "    -KNeighborsClassifier\n",
    "    -MultinomialNB\n",
    "    -BernoulliNB\n",
    "    -DecisionTreeClassifier\n",
    "    -BaggingClassifier\n",
    "    -RandomForestClassifier\n",
    "    -ExtraTreesClassifier\n",
    "    -AdaBoostClassifier\n",
    "    -GradientBoostingClassifier\n",
    "    \n",
    "    by input transformer such as Countvectorizer/TfidFvectorizer\n",
    "    \"\"\"\n",
    "    #obtain transformer name\n",
    "    name = str(transformer)\n",
    "    name = name[:name.index('(')]\n",
    "    #Doing Train-test-split\n",
    "    X_train,X_test,y_train,y_test = train_test_split(X,y,stratify =y,random_state=42)\n",
    "    #Transform data / Vectorizer\n",
    "    tf = transformer\n",
    "    tf.fit(X_train)\n",
    "    X_train_tf = tf.transform(X_train)\n",
    "    X_test_tf = tf.transform(X_test)\n",
    "    \n",
    "    #create blanklist\n",
    "    row = []\n",
    "    \n",
    "    #create model list\n",
    "    if model_list == '':\n",
    "        model_list = [LogisticRegression(),\n",
    "                KNeighborsClassifier(),\n",
    "                MultinomialNB(),\n",
    "                BernoulliNB(),\n",
    "                DecisionTreeClassifier(),\n",
    "                BaggingClassifier(),\n",
    "                RandomForestClassifier(),\n",
    "                ExtraTreesClassifier(),\n",
    "                AdaBoostClassifier(),\n",
    "                GradientBoostingClassifier()]\n",
    "    \n",
    "    #Fit and score using return_score function\n",
    "    for model in model_list:\n",
    "        score = return_score(model,X_train_tf,y_train,X_test_tf,y_test)\n",
    "        name_model = str(model)\n",
    "        name_model = name_model[:name_model.index('(')]\n",
    "        row.append([name,name_model,score[0],score[1],score[2]])\n",
    "    \n",
    "    \n",
    "    df = pd.DataFrame(row,columns=['transformer','estimator','r2_training','r2_validating','r2_testing'])\n",
    "    \n",
    "    return df"
   ]
  },
  {
   "cell_type": "markdown",
   "metadata": {},
   "source": [
    "### Using Countvectorizer & TfidfVectorizer (default parameter)"
   ]
  },
  {
   "cell_type": "code",
   "execution_count": 40,
   "metadata": {},
   "outputs": [],
   "source": [
    "#using function table_score and concat dataframe\n",
    "cvec_df = table_score(X,y,CountVectorizer(stop_words='english'))\n",
    "tvec_df = table_score(X,y,TfidfVectorizer(stop_words='english'))"
   ]
  },
  {
   "cell_type": "code",
   "execution_count": 41,
   "metadata": {},
   "outputs": [
    {
     "data": {
      "text/html": [
       "<div>\n",
       "<style scoped>\n",
       "    .dataframe tbody tr th:only-of-type {\n",
       "        vertical-align: middle;\n",
       "    }\n",
       "\n",
       "    .dataframe tbody tr th {\n",
       "        vertical-align: top;\n",
       "    }\n",
       "\n",
       "    .dataframe thead th {\n",
       "        text-align: right;\n",
       "    }\n",
       "</style>\n",
       "<table border=\"1\" class=\"dataframe\">\n",
       "  <thead>\n",
       "    <tr style=\"text-align: right;\">\n",
       "      <th></th>\n",
       "      <th>transformer</th>\n",
       "      <th>estimator</th>\n",
       "      <th>r2_training</th>\n",
       "      <th>r2_validating</th>\n",
       "      <th>r2_testing</th>\n",
       "    </tr>\n",
       "  </thead>\n",
       "  <tbody>\n",
       "    <tr>\n",
       "      <th>0</th>\n",
       "      <td>CountVectorizer</td>\n",
       "      <td>LogisticRegression</td>\n",
       "      <td>0.998289</td>\n",
       "      <td>0.875082</td>\n",
       "      <td>0.851282</td>\n",
       "    </tr>\n",
       "    <tr>\n",
       "      <th>2</th>\n",
       "      <td>CountVectorizer</td>\n",
       "      <td>MultinomialNB</td>\n",
       "      <td>0.947819</td>\n",
       "      <td>0.857988</td>\n",
       "      <td>0.851282</td>\n",
       "    </tr>\n",
       "    <tr>\n",
       "      <th>0</th>\n",
       "      <td>TfidfVectorizer</td>\n",
       "      <td>LogisticRegression</td>\n",
       "      <td>0.945252</td>\n",
       "      <td>0.843447</td>\n",
       "      <td>0.846154</td>\n",
       "    </tr>\n",
       "    <tr>\n",
       "      <th>9</th>\n",
       "      <td>CountVectorizer</td>\n",
       "      <td>GradientBoostingClassifier</td>\n",
       "      <td>0.905902</td>\n",
       "      <td>0.857115</td>\n",
       "      <td>0.835897</td>\n",
       "    </tr>\n",
       "    <tr>\n",
       "      <th>6</th>\n",
       "      <td>CountVectorizer</td>\n",
       "      <td>RandomForestClassifier</td>\n",
       "      <td>1.000000</td>\n",
       "      <td>0.850295</td>\n",
       "      <td>0.830769</td>\n",
       "    </tr>\n",
       "  </tbody>\n",
       "</table>\n",
       "</div>"
      ],
      "text/plain": [
       "       transformer                   estimator  r2_training  r2_validating  \\\n",
       "0  CountVectorizer          LogisticRegression     0.998289       0.875082   \n",
       "2  CountVectorizer               MultinomialNB     0.947819       0.857988   \n",
       "0  TfidfVectorizer          LogisticRegression     0.945252       0.843447   \n",
       "9  CountVectorizer  GradientBoostingClassifier     0.905902       0.857115   \n",
       "6  CountVectorizer      RandomForestClassifier     1.000000       0.850295   \n",
       "\n",
       "   r2_testing  \n",
       "0    0.851282  \n",
       "2    0.851282  \n",
       "0    0.846154  \n",
       "9    0.835897  \n",
       "6    0.830769  "
      ]
     },
     "execution_count": 41,
     "metadata": {},
     "output_type": "execute_result"
    }
   ],
   "source": [
    "pd.concat([cvec_df,tvec_df],axis=0).sort_values('r2_testing',ascending=False).head()"
   ]
  },
  {
   "cell_type": "markdown",
   "metadata": {},
   "source": [
    "### Using Countvectorizer & TfidfVectorizer (ngram (1,2))"
   ]
  },
  {
   "cell_type": "code",
   "execution_count": null,
   "metadata": {},
   "outputs": [],
   "source": [
    "#using function table_score and concat dataframe\n",
    "cvec_df = table_score(X,y,CountVectorizer(stop_words='english',ngram_range=(1,2)))\n",
    "tvec_df = table_score(X,y,TfidfVectorizer(stop_words='english',ngram_range=(1,2)))"
   ]
  },
  {
   "cell_type": "code",
   "execution_count": null,
   "metadata": {},
   "outputs": [],
   "source": [
    "pd.concat([cvec_df,tvec_df],axis=0).sort_values('r2_testing',ascending=False).head()"
   ]
  },
  {
   "cell_type": "markdown",
   "metadata": {},
   "source": [
    "### Adding more common stopword"
   ]
  },
  {
   "cell_type": "code",
   "execution_count": null,
   "metadata": {},
   "outputs": [],
   "source": [
    "add_stopwords = ['devic','screen','keyboard','use','want','work','need']\n",
    "stopword_list.extend(add_stopwords)\n",
    "stopword_list = sorted(list(set(stopword_list)))\n",
    "data['text_2'] = [robust_text(t,stopword_list) for t in data['text']]\n",
    "surface_text_2 = \" \".join(data[data['subreddit'] == 0]['text_2'])\n",
    "ipad_text_2 = \" \".join(data[data['subreddit'] == 1]['text_2'])"
   ]
  },
  {
   "cell_type": "code",
   "execution_count": null,
   "metadata": {},
   "outputs": [],
   "source": [
    "# Create and generate a word cloud image:\n",
    "wordcloud_sf_2 = WordCloud(scale=4,max_font_size=60, max_words=100, background_color=\"white\",\n",
    "                     stopwords=stopwords_wordcloud).generate(surface_text_2)\n",
    "\n",
    "# Display the generated image:\n",
    "plt.figure(figsize=(8,6))\n",
    "plt.title(\"Surface's subreddit most common words\",fontsize=30)\n",
    "plt.imshow(wordcloud_sf_2, interpolation='bilinear')\n",
    "plt.axis(\"off\")\n",
    "plt.show()\n",
    "\n",
    "# Create and generate a word cloud image:\n",
    "wordcloud_ip_2 = WordCloud(scale=4,max_font_size=60, max_words=100, background_color=\"white\",\n",
    "                     stopwords=stopwords_wordcloud).generate(ipad_text_2)\n",
    "\n",
    "# Display the generated image:\n",
    "plt.figure(figsize=(8,6))\n",
    "plt.title(\"iPad's subreddit most common words\",fontsize=30)\n",
    "plt.imshow(wordcloud_ip_2, interpolation='bilinear')\n",
    "plt.axis(\"off\")\n",
    "plt.show()"
   ]
  },
  {
   "cell_type": "markdown",
   "metadata": {},
   "source": [
    "### Build model when remove more words using ngram (1,2)"
   ]
  },
  {
   "cell_type": "code",
   "execution_count": null,
   "metadata": {},
   "outputs": [],
   "source": [
    "X_2 = data['text_2']\n",
    "y_2 = data['subreddit']\n",
    "model_list_2 = [LogisticRegression(),MultinomialNB()]"
   ]
  },
  {
   "cell_type": "code",
   "execution_count": null,
   "metadata": {},
   "outputs": [],
   "source": [
    "cvec_df_2 = table_score(X_2,y_2,CountVectorizer(stop_words='english',ngram_range=(1,2)),model_list_2)\n",
    "tvec_df_2 = table_score(X_2,y_2,TfidfVectorizer(stop_words='english',ngram_range=(1,2)),model_list_2)"
   ]
  },
  {
   "cell_type": "code",
   "execution_count": null,
   "metadata": {
    "scrolled": false
   },
   "outputs": [],
   "source": [
    "pd.concat([cvec_df_2,tvec_df_2],axis=0).sort_values('r2_testing',ascending = False)"
   ]
  },
  {
   "cell_type": "markdown",
   "metadata": {},
   "source": [
    "Without remove common words obtain better score."
   ]
  },
  {
   "cell_type": "markdown",
   "metadata": {},
   "source": [
    "### Select 'CountVectorizer' & 'LogisticRegression' and tune Hyperparameter"
   ]
  },
  {
   "cell_type": "markdown",
   "metadata": {},
   "source": [
    "Using ngram_range = (1,2) and try to reduce overfit by logreg"
   ]
  },
  {
   "cell_type": "code",
   "execution_count": null,
   "metadata": {},
   "outputs": [],
   "source": [
    "# Doing Train-test split\n",
    "X_train,X_test,y_train,y_test = train_test_split(X,y,stratify =y,random_state=42)"
   ]
  },
  {
   "cell_type": "code",
   "execution_count": null,
   "metadata": {},
   "outputs": [],
   "source": [
    "pipe = Pipeline([('cvec',CountVectorizer(stop_words='english',ngram_range=(1,2))),\n",
    "                ('logreg',LogisticRegression())])\n",
    "pipe.get_params() #Check for hyperparameter"
   ]
  },
  {
   "cell_type": "code",
   "execution_count": null,
   "metadata": {},
   "outputs": [],
   "source": [
    "#set hyperparameter to tune for\n",
    "pipe_params = {'cvec__max_df':[ 1.0,0.9,0.8],\n",
    "               'cvec__max_features': [None,5000,10000,15000,20000],\n",
    "               'cvec__min_df': [1,2],\n",
    "               'logreg__C': [1.0,0.5,0.1]\n",
    "               }\n",
    "#Instantiate GridsearchCV\n",
    "gs = GridSearchCV(pipe,param_grid=pipe_params,cv=5)\n"
   ]
  },
  {
   "cell_type": "code",
   "execution_count": null,
   "metadata": {},
   "outputs": [],
   "source": [
    "gs.fit(X_train,y_train) #fit model"
   ]
  },
  {
   "cell_type": "code",
   "execution_count": null,
   "metadata": {},
   "outputs": [],
   "source": [
    "gs.best_score_ #check for best validating score"
   ]
  },
  {
   "cell_type": "code",
   "execution_count": null,
   "metadata": {},
   "outputs": [],
   "source": [
    "gs.best_params_ #check for best param"
   ]
  },
  {
   "cell_type": "code",
   "execution_count": null,
   "metadata": {},
   "outputs": [],
   "source": [
    "pipe_2 = Pipeline([('cvec',CountVectorizer(stop_words='english',ngram_range=(1,2))),\n",
    "                ('logreg',LogisticRegression(C=0.5))])\n",
    "pipe_params_2 = {'cvec__max_features': [3000,4000,5000,6000,7000]}\n",
    "#Instantiate GridsearchCV\n",
    "gs_2 = GridSearchCV(pipe_2,param_grid=pipe_params_2,cv=5)\n",
    "gs_2.fit(X_train,y_train)"
   ]
  },
  {
   "cell_type": "code",
   "execution_count": null,
   "metadata": {},
   "outputs": [],
   "source": [
    "gs_2.best_score_"
   ]
  },
  {
   "cell_type": "code",
   "execution_count": null,
   "metadata": {},
   "outputs": [],
   "source": [
    "gs_2.best_params_"
   ]
  },
  {
   "cell_type": "code",
   "execution_count": null,
   "metadata": {},
   "outputs": [],
   "source": [
    "#Check for default max_feature if ngram_range = (1,1)\n",
    "cvec = CountVectorizer(ngram_range=(1, 1),stop_words='english')\n",
    "cvec.fit(X_train)\n",
    "X_train_cvec = cvec.transform(X_train)\n",
    "cvec_df = pd.DataFrame(X_train_cvec.toarray(),columns = cvec.get_feature_names())\n",
    "cvec_df.shape"
   ]
  },
  {
   "cell_type": "code",
   "execution_count": null,
   "metadata": {},
   "outputs": [],
   "source": [
    "cvec_df"
   ]
  },
  {
   "cell_type": "code",
   "execution_count": null,
   "metadata": {},
   "outputs": [],
   "source": [
    "#Check for default max_feature if ngram_range = (1,2)\n",
    "cvec = CountVectorizer(ngram_range=(1, 2),stop_words='english')\n",
    "cvec.fit(X_train)\n",
    "X_train_cvec = cvec.transform(X_train)\n",
    "cvec_df = pd.DataFrame(X_train_cvec.toarray(),columns = cvec.get_feature_names())\n",
    "cvec_df.shape"
   ]
  },
  {
   "cell_type": "code",
   "execution_count": null,
   "metadata": {},
   "outputs": [],
   "source": [
    "cvec_df"
   ]
  },
  {
   "cell_type": "markdown",
   "metadata": {},
   "source": [
    "Max feature is **40028** words while Gridsearch indicated that **5000** words showing best score. Then we build a Final Model."
   ]
  },
  {
   "cell_type": "markdown",
   "metadata": {},
   "source": [
    "# Build Final Model using hyperparameter from Gridsearch"
   ]
  },
  {
   "cell_type": "code",
   "execution_count": null,
   "metadata": {},
   "outputs": [],
   "source": [
    "#Instantiate Transformer\n",
    "cvec = CountVectorizer(ngram_range=(1, 2),max_features=5000,stop_words='english')\n",
    "cvec.fit(X_train)\n",
    "X_train_cvec = cvec.transform(X_train)\n",
    "X_test_cvec = cvec.transform(X_test)"
   ]
  },
  {
   "cell_type": "code",
   "execution_count": null,
   "metadata": {},
   "outputs": [],
   "source": [
    "logreg = LogisticRegression(C=0.5)\n",
    "logreg.fit(X_train_cvec,y_train)\n",
    "logreg.score(X_train_cvec,y_train)"
   ]
  },
  {
   "cell_type": "code",
   "execution_count": null,
   "metadata": {},
   "outputs": [],
   "source": [
    "cross_val_score(logreg,X_train_cvec,y_train).mean()"
   ]
  },
  {
   "cell_type": "code",
   "execution_count": null,
   "metadata": {},
   "outputs": [],
   "source": [
    "logreg.score(X_test_cvec,y_test)"
   ]
  },
  {
   "cell_type": "markdown",
   "metadata": {},
   "source": [
    "Final model is a bit less overfitted when using parameter from GridsearchCV. (From "
   ]
  },
  {
   "cell_type": "code",
   "execution_count": null,
   "metadata": {},
   "outputs": [],
   "source": [
    "from sklearn.metrics import confusion_matrix,plot_confusion_matrix\n",
    "confusion_matrix = confusion_matrix(y_test,logreg.predict(X_test_cvec))"
   ]
  },
  {
   "cell_type": "code",
   "execution_count": null,
   "metadata": {},
   "outputs": [],
   "source": [
    "confusion_matrix"
   ]
  },
  {
   "cell_type": "code",
   "execution_count": null,
   "metadata": {
    "scrolled": false
   },
   "outputs": [],
   "source": [
    "plt.style.use('default')\n",
    "plot_confusion_matrix(logreg,X_test_cvec,y_test);"
   ]
  },
  {
   "cell_type": "markdown",
   "metadata": {},
   "source": [
    "# Model Interpretation"
   ]
  },
  {
   "cell_type": "markdown",
   "metadata": {},
   "source": [
    "**Check coefficient of logistic regrssion model**"
   ]
  },
  {
   "cell_type": "code",
   "execution_count": null,
   "metadata": {},
   "outputs": [],
   "source": [
    "np.exp(logreg.coef_[0])"
   ]
  },
  {
   "cell_type": "code",
   "execution_count": null,
   "metadata": {
    "scrolled": true
   },
   "outputs": [],
   "source": [
    "#compare log_proba of each class\n",
    "df_coef = pd.DataFrame(columns=['feature_name','log_reg_coef'])\n",
    "df_coef['feature_name'] = cvec.get_feature_names()\n",
    "df_coef['log_reg_coef']= np.exp(logreg.coef_[0])\n"
   ]
  },
  {
   "cell_type": "code",
   "execution_count": null,
   "metadata": {},
   "outputs": [],
   "source": [
    "df_coef"
   ]
  },
  {
   "cell_type": "code",
   "execution_count": null,
   "metadata": {},
   "outputs": [],
   "source": [
    "df_coef.sort_values('log_reg_coef',ascending=False).head(20)"
   ]
  },
  {
   "cell_type": "code",
   "execution_count": null,
   "metadata": {},
   "outputs": [],
   "source": [
    "df_coef.sort_values('log_reg_coef',ascending=True).head(20)"
   ]
  },
  {
   "cell_type": "markdown",
   "metadata": {},
   "source": [
    "**study wrong prediction**"
   ]
  },
  {
   "cell_type": "code",
   "execution_count": null,
   "metadata": {},
   "outputs": [],
   "source": [
    "len(logreg.predict(X_test_cvec))"
   ]
  },
  {
   "cell_type": "code",
   "execution_count": null,
   "metadata": {},
   "outputs": [],
   "source": [
    "X_test.shape"
   ]
  },
  {
   "cell_type": "code",
   "execution_count": null,
   "metadata": {},
   "outputs": [],
   "source": [
    "logreg.predict_proba(X_test_cvec)"
   ]
  },
  {
   "cell_type": "code",
   "execution_count": null,
   "metadata": {},
   "outputs": [],
   "source": [
    "df_predict_proba = pd.DataFrame(columns = ['text','predict','actual','result','predict_proba_surface','predict_proba_ipad','delta_proba_surface'])\n",
    "df_predict_proba"
   ]
  },
  {
   "cell_type": "code",
   "execution_count": null,
   "metadata": {},
   "outputs": [],
   "source": [
    "df_predict_proba['text'] = X_test\n",
    "df_predict_proba['predict'] = logreg.predict(X_test_cvec)\n",
    "df_predict_proba['actual'] = y_test\n",
    "df_predict_proba['result'] = (df_predict_proba['predict'] == df_predict_proba['actual']).astype(int).map({1:'Correct',0:'Wrong'})\n",
    "df_predict_proba['predict_proba_surface'] = [prob[0] for prob in logreg.predict_proba(X_test_cvec)]\n",
    "df_predict_proba['predict_proba_ipad'] =  [prob[1] for prob in logreg.predict_proba(X_test_cvec)]\n",
    "df_predict_proba['delta_proba_surface'] = df_predict_proba['predict_proba_surface'] - df_predict_proba['predict_proba_ipad']"
   ]
  },
  {
   "cell_type": "code",
   "execution_count": null,
   "metadata": {},
   "outputs": [],
   "source": [
    "df_inspect = df_predict_proba[df_predict_proba['result'] == 'Wrong'].sort_values('delta_proba_surface')\n",
    "df_inspect"
   ]
  },
  {
   "cell_type": "code",
   "execution_count": null,
   "metadata": {},
   "outputs": [],
   "source": [
    "df_inspect.sort_values('delta_proba_surface').head()"
   ]
  },
  {
   "cell_type": "code",
   "execution_count": null,
   "metadata": {
    "scrolled": true
   },
   "outputs": [],
   "source": [
    "print(data.loc[895]['title'])"
   ]
  },
  {
   "cell_type": "code",
   "execution_count": null,
   "metadata": {},
   "outputs": [],
   "source": [
    "print(data.loc[895]['selftext']) #this post is in surface but predicted ipad"
   ]
  },
  {
   "cell_type": "code",
   "execution_count": null,
   "metadata": {},
   "outputs": [],
   "source": [
    "df_coef[df_coef['feature_name']=='app'] #normally for windows user, it will be callled 'program'"
   ]
  },
  {
   "cell_type": "code",
   "execution_count": null,
   "metadata": {},
   "outputs": [],
   "source": [
    "df_inspect.sort_values('delta_proba_surface').tail()"
   ]
  },
  {
   "cell_type": "code",
   "execution_count": null,
   "metadata": {
    "scrolled": true
   },
   "outputs": [],
   "source": [
    "print(data.loc[1278]['title'])"
   ]
  },
  {
   "cell_type": "code",
   "execution_count": null,
   "metadata": {},
   "outputs": [],
   "source": [
    "print(data.loc[1278]['selftext'])"
   ]
  },
  {
   "cell_type": "code",
   "execution_count": null,
   "metadata": {},
   "outputs": [],
   "source": [
    "df_coef[df_coef['feature_name']=='book']"
   ]
  },
  {
   "cell_type": "markdown",
   "metadata": {},
   "source": [
    "# Summary of Analysis"
   ]
  },
  {
   "cell_type": "markdown",
   "metadata": {},
   "source": [
    "The model used to classify posts from surface and ipad subreddit is a combination of CountVectorizer and LogisticRegression.Countvectorizer chop the text or sentence into words while logisticregression use regression model to predict whether the following sets of word come from which subreddit.\n",
    "\n",
    "Final model has accuracy of 84% on testing datasets. When the wrong predictions are studied, it was found that if the post contains a strong correlate word to each brand such as 'window' (surface-leaning side) or 'app' (ipad-leaning side), the model is likely to predict incorrectly,whichcan be improved by adding stopword/words used to remove from texts used for training model.\n",
    "\n",
    "When looking at feature importance or how the words impact the prediction of the model,the model showed that the words like\n",
    "- apple,ios,magic,pencil,safari\n",
    "\n",
    "show a strong correlation for ipad topics because this set of words is apple's renowned product. This indicates that apple has a strong marketing campaign and product characteristics.\n",
    "\n",
    "While, for surface subreddit, top keywords for model predicting this class are\n",
    "\n",
    "- book,sp (surface pro),pen,microsoft,sb (surface book)\n",
    "\n",
    "which are also a identity of microsoft surface line up. But also negative words have came up such as\n",
    "\n",
    "- fix,replace\n",
    "\n",
    "This indicated that microsoft surface still has some flaws. If the company has the ability to reduce the number of warranty claims or repairing claims. It should be able to increase products' brand , revenue and marketshare. Also apart from the model line-up, if microsoft can launch accessories or any aesthetic items, it should be able to attract new customers from apple side as well"
   ]
  },
  {
   "cell_type": "markdown",
   "metadata": {},
   "source": [
    "# Conclusions and Recommendations"
   ]
  },
  {
   "cell_type": "markdown",
   "metadata": {},
   "source": [
    "Based on our problem statement, we found that\n",
    "1. Keywords that make model predict ipad are Apple's product which is well known such as ios,magic keyboard or apple pencil and the model didn't show much of negative words in those keyword.\n",
    "2. While surfaces' keyword also showed the same trend except that there are negative words like 'fix' or 'replace'\n",
    "\n",
    "To make a surface product better, it is recommended that\n",
    "1. Microsoft should consider improving product endurance to reduce number of warranty claim.\n",
    "2. Microsoft should consider launching aesthetic products/items for surface line-ups"
   ]
  }
 ],
 "metadata": {
  "kernelspec": {
   "display_name": "Python 3",
   "language": "python",
   "name": "python3"
  },
  "language_info": {
   "codemirror_mode": {
    "name": "ipython",
    "version": 3
   },
   "file_extension": ".py",
   "mimetype": "text/x-python",
   "name": "python",
   "nbconvert_exporter": "python",
   "pygments_lexer": "ipython3",
   "version": "3.8.5"
  }
 },
 "nbformat": 4,
 "nbformat_minor": 4
}
