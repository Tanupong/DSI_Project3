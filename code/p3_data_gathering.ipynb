{
 "cells": [
  {
   "cell_type": "markdown",
   "metadata": {},
   "source": [
    "<img src=\"http://imgur.com/1ZcRyrc.png\" style=\"float: left; margin: 20px; height: 55px\">\n",
    "\n",
    "# Project 3: Web APIs & Classification"
   ]
  },
  {
   "cell_type": "markdown",
   "metadata": {},
   "source": [
    "# Background"
   ]
  },
  {
   "cell_type": "markdown",
   "metadata": {},
   "source": [
    "Microsoft Surface is a series of touch-screen mobile laptop which is renowned for combining tablet and laptop seamlessly. Apple iPad is always the go-to tablet which beat competitor like Samsung Galaxy Tab and has the most sale in the past decade. However, many companies have launch tablet-like product lines and took away marketshare from apple's product. Apple ,then, launch iPad Pro and magic keyboard which make it can also works as a working laptop.\n",
    "\n",
    "<p align=\"center\">\n",
    "<img src=\"../images/best_selling_tablets.PNG\" width=\"800\" />\n",
    "</p>\n",
    "\n",
    "[*source: https://www.statista.com/statistics/276635/market-share-held-by-tablet-vendors/*](https://www.statista.com/statistics/276635/market-share-held-by-tablet-vendors/)\n",
    "\n",
    "While iPad is the better tablet, and it’s ideal for creative tasks, Surface is always a better laptop, well suited for tasks like writing, editing large spreadsheets and databases, and programming. With the coming of iPad with better keyboard, Microsoft has to come-up with a new idea or set next standard to prevent apple taking away the revenue is this competitive hardware market.\n",
    "\n",
    "<p align=\"center\">\n",
    "<img src=\"../images/surface_vs_ipad.jpg\" width=\"400\" />\n",
    "</p>\n",
    "\n",
    "Reddit is a network of communities based on people's interests. It is the massive places that people came to talk about specific topic whether to share a story ,asking question, or leaving a negative comments. Going through Reddit can tell you the trends of thing happening in that topic. Suppose that Microsoft want to develop its Surface series, as a Product Manager, the model that be able to classify post from subreddit of surface and ipad is created based on its title and context  and further analyzed to find keywords and hoping to see a diffent key interest of people in both communities.\n"
   ]
  },
  {
   "cell_type": "markdown",
   "metadata": {},
   "source": [
    "# Problem Statement"
   ]
  },
  {
   "cell_type": "markdown",
   "metadata": {},
   "source": [
    "What is the keyword most appear in surface and ipad subreddit post? Are they the negative or positive words? And how to make a development of surface series based on surface's weakness or ipad's strength?"
   ]
  },
  {
   "cell_type": "markdown",
   "metadata": {},
   "source": [
    "# Data Gathering"
   ]
  },
  {
   "cell_type": "markdown",
   "metadata": {},
   "source": [
    "Using reddit api to gathering context of each posts in both r/surface and r/ipad"
   ]
  },
  {
   "cell_type": "code",
   "execution_count": 1,
   "metadata": {},
   "outputs": [],
   "source": [
    "#import libraries\n",
    "import requests\n",
    "import pandas as pd\n",
    "import time\n",
    "import random\n",
    "from tqdm import tqdm"
   ]
  },
  {
   "cell_type": "code",
   "execution_count": 2,
   "metadata": {},
   "outputs": [],
   "source": [
    "#define url_surface and url_ipad\n",
    "\n",
    "url_surface = \"https://www.reddit.com/r/surface.json\"\n",
    "url_ipad = \"https://www.reddit.com/r/ipad.json\"\n"
   ]
  },
  {
   "cell_type": "code",
   "execution_count": 3,
   "metadata": {},
   "outputs": [
    {
     "name": "stderr",
     "output_type": "stream",
     "text": [
      "100%|██████████████████████████████████████████████████████████████████████████████████| 50/50 [01:43<00:00,  2.07s/it]\n"
     ]
    }
   ],
   "source": [
    "#scrape data from subreddit : surface\n",
    "\n",
    "posts_surface = []\n",
    "after = None\n",
    "\n",
    "for a in tqdm(range(50)):\n",
    "    if after == None:\n",
    "        current_url = url_surface\n",
    "    else:\n",
    "        current_url = url_surface + '?after=' + after\n",
    "    res = requests.get(current_url, headers={'User-agent': 'Dip 4.0'})\n",
    "    \n",
    "    if res.status_code != 200:\n",
    "        print('Status error', res.status_code)\n",
    "        break\n",
    "    \n",
    "    current_dict = res.json()\n",
    "    current_posts = [p['data'] for p in current_dict['data']['children']]\n",
    "    posts_surface.extend(current_posts)\n",
    "    after = current_dict['data']['after']\n",
    "    \n",
    "    if a > 0:\n",
    "        prev_posts = pd.read_csv('../data/surface.csv')\n",
    "        current_df = pd.DataFrame(current_posts)\n",
    "        df = pd.concat([prev_posts,current_df],ignore_index=True)\n",
    "        df.to_csv('../data/surface.csv', index = False)\n",
    "\n",
    "        \n",
    "    else:\n",
    "        pd.DataFrame(posts_surface).to_csv('../data/surface.csv', index = False)\n",
    "\n",
    "    # generate a random sleep duration to look more 'natural'\n",
    "    sleep_duration = 1\n",
    "    time.sleep(sleep_duration)"
   ]
  },
  {
   "cell_type": "code",
   "execution_count": 4,
   "metadata": {
    "scrolled": true
   },
   "outputs": [
    {
     "name": "stderr",
     "output_type": "stream",
     "text": [
      "100%|██████████████████████████████████████████████████████████████████████████████████| 50/50 [01:45<00:00,  2.12s/it]\n"
     ]
    }
   ],
   "source": [
    "#scrape data from subreddit : ipad\n",
    "\n",
    "posts_ipad = []\n",
    "after = None\n",
    "\n",
    "for a in tqdm(range(50)):\n",
    "    if after == None:\n",
    "        current_url = url_ipad\n",
    "    else:\n",
    "        current_url = url_ipad + '?after=' + after\n",
    "    res = requests.get(current_url, headers={'User-agent': 'Dip 4.0'})\n",
    "\n",
    "    if res.status_code != 200:\n",
    "        print('Status error', res.status_code)\n",
    "        break\n",
    "    \n",
    "    current_dict = res.json()\n",
    "    current_posts = [p['data'] for p in current_dict['data']['children']]\n",
    "    posts_ipad.extend(current_posts)\n",
    "    after = current_dict['data']['after']\n",
    "    \n",
    "    if a > 0:\n",
    "        prev_posts = pd.read_csv('../data/ipad.csv')\n",
    "        current_df = pd.DataFrame(current_posts)\n",
    "        df = pd.concat([prev_posts,current_df],ignore_index=True)\n",
    "        df.to_csv('../data/ipad.csv', index = False)\n",
    "        \n",
    "    else:\n",
    "        pd.DataFrame(posts_ipad).to_csv('../data/ipad.csv', index = False)\n",
    "\n",
    "    # generate a random sleep duration to look more 'natural'\n",
    "    sleep_duration = 1\n",
    "    time.sleep(sleep_duration)"
   ]
  },
  {
   "cell_type": "code",
   "execution_count": null,
   "metadata": {},
   "outputs": [],
   "source": []
  }
 ],
 "metadata": {
  "kernelspec": {
   "display_name": "Python 3",
   "language": "python",
   "name": "python3"
  },
  "language_info": {
   "codemirror_mode": {
    "name": "ipython",
    "version": 3
   },
   "file_extension": ".py",
   "mimetype": "text/x-python",
   "name": "python",
   "nbconvert_exporter": "python",
   "pygments_lexer": "ipython3",
   "version": "3.8.5"
  }
 },
 "nbformat": 4,
 "nbformat_minor": 4
}
